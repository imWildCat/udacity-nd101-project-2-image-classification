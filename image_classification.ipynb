{
 "cells": [
  {
   "cell_type": "markdown",
   "metadata": {
    "collapsed": true,
    "deletable": true,
    "editable": true
   },
   "source": [
    "# Image Classification\n",
    "In this project, you'll classify images from the [CIFAR-10 dataset](https://www.cs.toronto.edu/~kriz/cifar.html).  The dataset consists of airplanes, dogs, cats, and other objects. You'll preprocess the images, then train a convolutional neural network on all the samples. The images need to be normalized and the labels need to be one-hot encoded.  You'll get to apply what you learned and build a convolutional, max pooling, dropout, and fully connected layers.  At the end, you'll get to see your neural network's predictions on the sample images.\n",
    "## Get the Data\n",
    "Run the following cell to download the [CIFAR-10 dataset for python](https://www.cs.toronto.edu/~kriz/cifar-10-python.tar.gz)."
   ]
  },
  {
   "cell_type": "code",
   "execution_count": 1,
   "metadata": {
    "collapsed": false,
    "deletable": true,
    "editable": true
   },
   "outputs": [
    {
     "name": "stderr",
     "output_type": "stream",
     "text": [
      "CIFAR-10 Dataset: 171MB [03:56, 720KB/s]                               \n"
     ]
    },
    {
     "name": "stdout",
     "output_type": "stream",
     "text": [
      "All files found!\n"
     ]
    }
   ],
   "source": [
    "\"\"\"\n",
    "DON'T MODIFY ANYTHING IN THIS CELL THAT IS BELOW THIS LINE\n",
    "\"\"\"\n",
    "from urllib.request import urlretrieve\n",
    "from os.path import isfile, isdir\n",
    "from tqdm import tqdm\n",
    "import problem_unittests as tests\n",
    "import tarfile\n",
    "\n",
    "cifar10_dataset_folder_path = 'cifar-10-batches-py'\n",
    "\n",
    "class DLProgress(tqdm):\n",
    "    last_block = 0\n",
    "\n",
    "    def hook(self, block_num=1, block_size=1, total_size=None):\n",
    "        self.total = total_size\n",
    "        self.update((block_num - self.last_block) * block_size)\n",
    "        self.last_block = block_num\n",
    "\n",
    "if not isfile('cifar-10-python.tar.gz'):\n",
    "    with DLProgress(unit='B', unit_scale=True, miniters=1, desc='CIFAR-10 Dataset') as pbar:\n",
    "        urlretrieve(\n",
    "            'https://www.cs.toronto.edu/~kriz/cifar-10-python.tar.gz',\n",
    "            'cifar-10-python.tar.gz',\n",
    "            pbar.hook)\n",
    "\n",
    "if not isdir(cifar10_dataset_folder_path):\n",
    "    with tarfile.open('cifar-10-python.tar.gz') as tar:\n",
    "        tar.extractall()\n",
    "        tar.close()\n",
    "\n",
    "\n",
    "tests.test_folder_path(cifar10_dataset_folder_path)"
   ]
  },
  {
   "cell_type": "markdown",
   "metadata": {
    "deletable": true,
    "editable": true
   },
   "source": [
    "## Explore the Data\n",
    "The dataset is broken into batches to prevent your machine from running out of memory.  The CIFAR-10 dataset consists of 5 batches, named `data_batch_1`, `data_batch_2`, etc.. Each batch contains the labels and images that are one of the following:\n",
    "* airplane\n",
    "* automobile\n",
    "* bird\n",
    "* cat\n",
    "* deer\n",
    "* dog\n",
    "* frog\n",
    "* horse\n",
    "* ship\n",
    "* truck\n",
    "\n",
    "Understanding a dataset is part of making predictions on the data.  Play around with the code cell below by changing the `batch_id` and `sample_id`. The `batch_id` is the id for a batch (1-5). The `sample_id` is the id for a image and label pair in the batch.\n",
    "\n",
    "Ask yourself \"What are all possible labels?\", \"What is the range of values for the image data?\", \"Are the labels in order or random?\".  Answers to questions like these will help you preprocess the data and end up with better predictions."
   ]
  },
  {
   "cell_type": "code",
   "execution_count": 2,
   "metadata": {
    "collapsed": false,
    "deletable": true,
    "editable": true
   },
   "outputs": [
    {
     "name": "stdout",
     "output_type": "stream",
     "text": [
      "\n",
      "Stats of batch 5:\n",
      "Samples: 10000\n",
      "Label Counts: {0: 1014, 1: 1014, 2: 952, 3: 1016, 4: 997, 5: 1025, 6: 980, 7: 977, 8: 1003, 9: 1022}\n",
      "First 20 Labels: [1, 8, 5, 1, 5, 7, 4, 3, 8, 2, 7, 2, 0, 1, 5, 9, 6, 2, 0, 8]\n",
      "\n",
      "Example of Image 1:\n",
      "Image - Min Value: 1 Max Value: 244\n",
      "Image - Shape: (32, 32, 3)\n",
      "Label - Label Id: 8 Name: ship\n"
     ]
    },
    {
     "data": {
      "image/png": "[encoded data removed]",
      "text/plain": [
       "<matplotlib.figure.Figure at 0x7f09a8c130b8>"
      ]
     },
     "metadata": {
      "image/png": {
       "height": 250,
       "width": 253
      }
     },
     "output_type": "display_data"
    }
   ],
   "source": [
    "%matplotlib inline\n",
    "%config InlineBackend.figure_format = 'retina'\n",
    "\n",
    "import helper\n",
    "import numpy as np\n",
    "\n",
    "# Explore the dataset\n",
    "batch_id = 5\n",
    "sample_id = 1\n",
    "helper.display_stats(cifar10_dataset_folder_path, batch_id, sample_id)"
   ]
  },
  {
   "cell_type": "markdown",
   "metadata": {
    "deletable": true,
    "editable": true
   },
   "source": [
    "## Implement Preprocess Functions\n",
    "### Normalize\n",
    "In the cell below, implement the `normalize` function to take in image data, `x`, and return it as a normalized Numpy array. The values should be in the range of 0 to 1, inclusive.  The return object should be the same shape as `x`."
   ]
  },
  {
   "cell_type": "code",
   "execution_count": 9,
   "metadata": {
    "collapsed": false,
    "deletable": true,
    "editable": true
   },
   "outputs": [
    {
     "name": "stdout",
     "output_type": "stream",
     "text": [
      "Tests Passed\n"
     ]
    }
   ],
   "source": [
    "def normalize(x):\n",
    "    \"\"\"\n",
    "    Normalize a list of sample image data in the range of 0 to 1\n",
    "    : x: List of image data.  The image shape is (32, 32, 3)\n",
    "    : return: Numpy array of normalize data\n",
    "    \"\"\"\n",
    "    # TODO: Implement Function\n",
    "    a = np.array(x, dtype='float32')\n",
    "    return a / 255.0\n",
    "\n",
    "\n",
    "\"\"\"\n",
    "DON'T MODIFY ANYTHING IN THIS CELL THAT IS BELOW THIS LINE\n",
    "\"\"\"\n",
    "tests.test_normalize(normalize)"
   ]
  },
  {
   "cell_type": "markdown",
   "metadata": {
    "deletable": true,
    "editable": true
   },
   "source": [
    "### One-hot encode\n",
    "Just like the previous code cell, you'll be implementing a function for preprocessing.  This time, you'll implement the `one_hot_encode` function. The input, `x`, are a list of labels.  Implement the function to return the list of labels as One-Hot encoded Numpy array.  The possible values for labels are 0 to 9. The one-hot encoding function should return the same encoding for each value between each call to `one_hot_encode`.  Make sure to save the map of encodings outside the function.\n",
    "\n",
    "**Hint:**\n",
    "\n",
    "Look into LabelBinarizer in the preprocessing module of sklearn."
   ]
  },
  {
   "cell_type": "code",
   "execution_count": 10,
   "metadata": {
    "collapsed": false,
    "deletable": true,
    "editable": true
   },
   "outputs": [
    {
     "name": "stdout",
     "output_type": "stream",
     "text": [
      "Tests Passed\n"
     ]
    }
   ],
   "source": [
    "def one_hot_encode(x):\n",
    "    \"\"\"\n",
    "    One hot encode a list of sample labels. Return a one-hot encoded vector for each label.\n",
    "    : x: List of sample Labels\n",
    "    : return: Numpy array of one-hot encoded labels\n",
    "    \"\"\"\n",
    "    # TODO: Implement Function\n",
    "    encoded_array = []\n",
    "    for value in x:\n",
    "        new_row = np.zeros(10)\n",
    "        new_row[value] = 1\n",
    "#         print('x:', value)\n",
    "#         print('new_row:', new_row)\n",
    "        encoded_array.append(new_row)\n",
    "    return np.array(encoded_array)\n",
    "\n",
    "\n",
    "\"\"\"\n",
    "DON'T MODIFY ANYTHING IN THIS CELL THAT IS BELOW THIS LINE\n",
    "\"\"\"\n",
    "tests.test_one_hot_encode(one_hot_encode)"
   ]
  },
  {
   "cell_type": "markdown",
   "metadata": {
    "deletable": true,
    "editable": true
   },
   "source": [
    "### Randomize Data\n",
    "As you saw from exploring the data above, the order of the samples are randomized.  It doesn't hurt to randomize it again, but you don't need to for this dataset."
   ]
  },
  {
   "cell_type": "markdown",
   "metadata": {
    "deletable": true,
    "editable": true
   },
   "source": [
    "## Preprocess all the data and save it\n",
    "Running the code cell below will preprocess all the CIFAR-10 data and save it to file. The code below also uses 10% of the training data for validation."
   ]
  },
  {
   "cell_type": "code",
   "execution_count": 11,
   "metadata": {
    "collapsed": false,
    "deletable": true,
    "editable": true
   },
   "outputs": [],
   "source": [
    "\"\"\"\n",
    "DON'T MODIFY ANYTHING IN THIS CELL\n",
    "\"\"\"\n",
    "# Preprocess Training, Validation, and Testing Data\n",
    "helper.preprocess_and_save_data(cifar10_dataset_folder_path, normalize, one_hot_encode)"
   ]
  },
  {
   "cell_type": "markdown",
   "metadata": {
    "deletable": true,
    "editable": true
   },
   "source": [
    "# Check Point\n",
    "This is your first checkpoint.  If you ever decide to come back to this notebook or have to restart the notebook, you can start from here.  The preprocessed data has been saved to disk."
   ]
  },
  {
   "cell_type": "code",
   "execution_count": 12,
   "metadata": {
    "collapsed": true,
    "deletable": true,
    "editable": true
   },
   "outputs": [],
   "source": [
    "\"\"\"\n",
    "DON'T MODIFY ANYTHING IN THIS CELL\n",
    "\"\"\"\n",
    "import pickle\n",
    "import problem_unittests as tests\n",
    "import helper\n",
    "\n",
    "# Load the Preprocessed Validation data\n",
    "valid_features, valid_labels = pickle.load(open('preprocess_validation.p', mode='rb'))"
   ]
  },
  {
   "cell_type": "markdown",
   "metadata": {
    "deletable": true,
    "editable": true
   },
   "source": [
    "## Build the network\n",
    "For the neural network, you'll build each layer into a function.  Most of the code you've seen has been outside of functions. To test your code more thoroughly, we require that you put each layer in a function.  This allows us to give you better feedback and test for simple mistakes using our unittests before you submit your project.\n",
    "\n",
    ">**Note:** If you're finding it hard to dedicate enough time for this course each week, we've provided a small shortcut to this part of the project. In the next couple of problems, you'll have the option to use classes from the [TensorFlow Layers](https://www.tensorflow.org/api_docs/python/tf/layers) or [TensorFlow Layers (contrib)](https://www.tensorflow.org/api_guides/python/contrib.layers) packages to build each layer, except the layers you build in the \"Convolutional and Max Pooling Layer\" section.  TF Layers is similar to Keras's and TFLearn's abstraction to layers, so it's easy to pickup.\n",
    "\n",
    ">However, if you would like to get the most out of this course, try to solve all the problems _without_ using anything from the TF Layers packages. You **can** still use classes from other packages that happen to have the same name as ones you find in TF Layers! For example, instead of using the TF Layers version of the `conv2d` class, [tf.layers.conv2d](https://www.tensorflow.org/api_docs/python/tf/layers/conv2d), you would want to use the TF Neural Network version of `conv2d`, [tf.nn.conv2d](https://www.tensorflow.org/api_docs/python/tf/nn/conv2d). \n",
    "\n",
    "Let's begin!\n",
    "\n",
    "### Input\n",
    "The neural network needs to read the image data, one-hot encoded labels, and dropout keep probability. Implement the following functions\n",
    "* Implement `neural_net_image_input`\n",
    " * Return a [TF Placeholder](https://www.tensorflow.org/api_docs/python/tf/placeholder)\n",
    " * Set the shape using `image_shape` with batch size set to `None`.\n",
    " * Name the TensorFlow placeholder \"x\" using the TensorFlow `name` parameter in the [TF Placeholder](https://www.tensorflow.org/api_docs/python/tf/placeholder).\n",
    "* Implement `neural_net_label_input`\n",
    " * Return a [TF Placeholder](https://www.tensorflow.org/api_docs/python/tf/placeholder)\n",
    " * Set the shape using `n_classes` with batch size set to `None`.\n",
    " * Name the TensorFlow placeholder \"y\" using the TensorFlow `name` parameter in the [TF Placeholder](https://www.tensorflow.org/api_docs/python/tf/placeholder).\n",
    "* Implement `neural_net_keep_prob_input`\n",
    " * Return a [TF Placeholder](https://www.tensorflow.org/api_docs/python/tf/placeholder) for dropout keep probability.\n",
    " * Name the TensorFlow placeholder \"keep_prob\" using the TensorFlow `name` parameter in the [TF Placeholder](https://www.tensorflow.org/api_docs/python/tf/placeholder).\n",
    "\n",
    "These names will be used at the end of the project to load your saved model.\n",
    "\n",
    "Note: `None` for shapes in TensorFlow allow for a dynamic size."
   ]
  },
  {
   "cell_type": "code",
   "execution_count": 13,
   "metadata": {
    "collapsed": false,
    "deletable": true,
    "editable": true
   },
   "outputs": [
    {
     "name": "stdout",
     "output_type": "stream",
     "text": [
      "Image Input Tests Passed.\n",
      "Label Input Tests Passed.\n",
      "Keep Prob Tests Passed.\n"
     ]
    }
   ],
   "source": [
    "import tensorflow as tf\n",
    "\n",
    "def neural_net_image_input(image_shape):\n",
    "    \"\"\"\n",
    "    Return a Tensor for a batch of image input\n",
    "    : image_shape: Shape of the images\n",
    "    : return: Tensor for image input.\n",
    "    \"\"\"\n",
    "    # TODO: Implement Function\n",
    "    return tf.placeholder(tf.float32, shape=[None, image_shape[0], image_shape[1], image_shape[2]], name='x')\n",
    "\n",
    "\n",
    "def neural_net_label_input(n_classes):\n",
    "    \"\"\"\n",
    "    Return a Tensor for a batch of label input\n",
    "    : n_classes: Number of classes\n",
    "    : return: Tensor for label input.\n",
    "    \"\"\"\n",
    "    # TODO: Implement Function\n",
    "    return tf.placeholder(tf.float32, shape=[None, n_classes], name='y')\n",
    "\n",
    "\n",
    "def neural_net_keep_prob_input():\n",
    "    \"\"\"\n",
    "    Return a Tensor for keep probability\n",
    "    : return: Tensor for keep probability.\n",
    "    \"\"\"\n",
    "    # TODO: Implement Function\n",
    "    return tf.placeholder(tf.float32, name='keep_prob')\n",
    "\n",
    "\n",
    "\"\"\"\n",
    "DON'T MODIFY ANYTHING IN THIS CELL THAT IS BELOW THIS LINE\n",
    "\"\"\"\n",
    "tf.reset_default_graph()\n",
    "tests.test_nn_image_inputs(neural_net_image_input)\n",
    "tests.test_nn_label_inputs(neural_net_label_input)\n",
    "tests.test_nn_keep_prob_inputs(neural_net_keep_prob_input)"
   ]
  },
  {
   "cell_type": "markdown",
   "metadata": {
    "deletable": true,
    "editable": true
   },
   "source": [
    "### Convolution and Max Pooling Layer\n",
    "Convolution layers have a lot of success with images. For this code cell, you should implement the function `conv2d_maxpool` to apply convolution then max pooling:\n",
    "* Create the weight and bias using `conv_ksize`, `conv_num_outputs` and the shape of `x_tensor`.\n",
    "* Apply a convolution to `x_tensor` using weight and `conv_strides`.\n",
    " * We recommend you use same padding, but you're welcome to use any padding.\n",
    "* Add bias\n",
    "* Add a nonlinear activation to the convolution.\n",
    "* Apply Max Pooling using `pool_ksize` and `pool_strides`.\n",
    " * We recommend you use same padding, but you're welcome to use any padding.\n",
    "\n",
    "**Note:** You **can't** use [TensorFlow Layers](https://www.tensorflow.org/api_docs/python/tf/layers) or [TensorFlow Layers (contrib)](https://www.tensorflow.org/api_guides/python/contrib.layers) for **this** layer, but you can still use TensorFlow's [Neural Network](https://www.tensorflow.org/api_docs/python/tf/nn) package. You may still use the shortcut option for all the **other** layers.\n",
    "\n",
    "** Hint: **\n",
    "\n",
    "When unpacking values as an argument in Python, look into the [unpacking](https://docs.python.org/3/tutorial/controlflow.html#unpacking-argument-lists) operator. "
   ]
  },
  {
   "cell_type": "code",
   "execution_count": 14,
   "metadata": {
    "collapsed": false,
    "deletable": true,
    "editable": true
   },
   "outputs": [
    {
     "name": "stdout",
     "output_type": "stream",
     "text": [
      "Tests Passed\n"
     ]
    }
   ],
   "source": [
    "def conv2d_maxpool(x_tensor, conv_num_outputs, conv_ksize, conv_strides, pool_ksize, pool_strides):\n",
    "    \"\"\"\n",
    "    Apply convolution then max pooling to x_tensor\n",
    "    :param x_tensor: TensorFlow Tensor\n",
    "    :param conv_num_outputs: Number of outputs for the convolutional layer\n",
    "    :param conv_ksize: kernal size 2-D Tuple for the convolutional layer\n",
    "    :param conv_strides: Stride 2-D Tuple for convolution\n",
    "    :param pool_ksize: kernal size 2-D Tuple for pool\n",
    "    :param pool_strides: Stride 2-D Tuple for pool\n",
    "    : return: A tensor that represents convolution and max pooling of x_tensor\n",
    "    \"\"\"\n",
    "    # TODO: Implement Function\n",
    "    N_layer = conv_ksize[0]*conv_ksize[1]*x_tensor.get_shape().as_list()[3] \n",
    "    \n",
    "    filter_weights = tf.Variable(tf.truncated_normal((conv_ksize[0], \n",
    "                                                      conv_ksize[1], x_tensor.get_shape().as_list()[3], \n",
    "                                                      conv_num_outputs),\n",
    "                                                     stddev=tf.sqrt(2.0/float(N_layer))))\n",
    "    \n",
    "    filter_bias = tf.Variable(tf.zeros(conv_num_outputs))\n",
    "    \n",
    "    conv_layer = tf.nn.conv2d(x_tensor, filter_weights,\n",
    "                              strides=[1, conv_strides[0], conv_strides[1], 1],\n",
    "                              padding='SAME')\n",
    "    \n",
    "    conv_layer = tf.nn.bias_add(conv_layer, filter_bias)\n",
    "    conv_layer = tf.nn.relu(conv_layer)\n",
    "        \n",
    "    output = tf.nn.max_pool(conv_layer, ksize=[1, pool_ksize[0], pool_ksize[1], 1],\n",
    "                            strides=[1, pool_strides[0], pool_strides[1], 1], padding='SAME')\n",
    "    \n",
    "    \n",
    "    return output\n",
    "\n",
    "\n",
    "\"\"\"\n",
    "DON'T MODIFY ANYTHING IN THIS CELL THAT IS BELOW THIS LINE\n",
    "\"\"\"\n",
    "tests.test_con_pool(conv2d_maxpool)"
   ]
  },
  {
   "cell_type": "markdown",
   "metadata": {
    "deletable": true,
    "editable": true
   },
   "source": [
    "### Flatten Layer\n",
    "Implement the `flatten` function to change the dimension of `x_tensor` from a 4-D tensor to a 2-D tensor.  The output should be the shape (*Batch Size*, *Flattened Image Size*). Shortcut option: you can use classes from the [TensorFlow Layers](https://www.tensorflow.org/api_docs/python/tf/layers) or [TensorFlow Layers (contrib)](https://www.tensorflow.org/api_guides/python/contrib.layers) packages for this layer. For more of a challenge, only use other TensorFlow packages."
   ]
  },
  {
   "cell_type": "code",
   "execution_count": 15,
   "metadata": {
    "collapsed": false,
    "deletable": true,
    "editable": true
   },
   "outputs": [
    {
     "name": "stdout",
     "output_type": "stream",
     "text": [
      "Tests Passed\n"
     ]
    }
   ],
   "source": [
    "def flatten(x_tensor):\n",
    "    \"\"\"\n",
    "    Flatten x_tensor to (Batch Size, Flattened Image Size)\n",
    "    : x_tensor: A tensor of size (Batch Size, ...), where ... are the image dimensions.\n",
    "    : return: A tensor of size (Batch Size, Flattened Image Size).\n",
    "    \"\"\"\n",
    "    # TODO: Implement Function\n",
    "    return tf.contrib.layers.flatten(x_tensor)\n",
    "\n",
    "\n",
    "\"\"\"\n",
    "DON'T MODIFY ANYTHING IN THIS CELL THAT IS BELOW THIS LINE\n",
    "\"\"\"\n",
    "tests.test_flatten(flatten)"
   ]
  },
  {
   "cell_type": "markdown",
   "metadata": {
    "deletable": true,
    "editable": true
   },
   "source": [
    "### Fully-Connected Layer\n",
    "Implement the `fully_conn` function to apply a fully connected layer to `x_tensor` with the shape (*Batch Size*, *num_outputs*). Shortcut option: you can use classes from the [TensorFlow Layers](https://www.tensorflow.org/api_docs/python/tf/layers) or [TensorFlow Layers (contrib)](https://www.tensorflow.org/api_guides/python/contrib.layers) packages for this layer. For more of a challenge, only use other TensorFlow packages."
   ]
  },
  {
   "cell_type": "code",
   "execution_count": 16,
   "metadata": {
    "collapsed": false,
    "deletable": true,
    "editable": true
   },
   "outputs": [
    {
     "name": "stdout",
     "output_type": "stream",
     "text": [
      "Tests Passed\n"
     ]
    }
   ],
   "source": [
    "def fully_conn(x_tensor, num_outputs):\n",
    "    \"\"\"\n",
    "    Apply a fully connected layer to x_tensor using weight and bias\n",
    "    : x_tensor: A 2-D tensor where the first dimension is batch size.\n",
    "    : num_outputs: The number of output that the new tensor should be.\n",
    "    : return: A 2-D tensor where the second dimension is num_outputs.\n",
    "    \"\"\"\n",
    "    # TODO: Implement Function\n",
    "    return tf.contrib.layers.fully_connected(inputs=x_tensor, num_outputs=num_outputs)\n",
    "\n",
    "\n",
    "\"\"\"\n",
    "DON'T MODIFY ANYTHING IN THIS CELL THAT IS BELOW THIS LINE\n",
    "\"\"\"\n",
    "tests.test_fully_conn(fully_conn)"
   ]
  },
  {
   "cell_type": "markdown",
   "metadata": {
    "deletable": true,
    "editable": true
   },
   "source": [
    "### Output Layer\n",
    "Implement the `output` function to apply a fully connected layer to `x_tensor` with the shape (*Batch Size*, *num_outputs*). Shortcut option: you can use classes from the [TensorFlow Layers](https://www.tensorflow.org/api_docs/python/tf/layers) or [TensorFlow Layers (contrib)](https://www.tensorflow.org/api_guides/python/contrib.layers) packages for this layer. For more of a challenge, only use other TensorFlow packages.\n",
    "\n",
    "**Note:** Activation, softmax, or cross entropy should **not** be applied to this."
   ]
  },
  {
   "cell_type": "code",
   "execution_count": 18,
   "metadata": {
    "collapsed": false,
    "deletable": true,
    "editable": true
   },
   "outputs": [
    {
     "name": "stdout",
     "output_type": "stream",
     "text": [
      "Tests Passed\n"
     ]
    }
   ],
   "source": [
    "def output(x_tensor, num_outputs):\n",
    "    \"\"\"\n",
    "    Apply a output layer to x_tensor using weight and bias\n",
    "    : x_tensor: A 2-D tensor where the first dimension is batch size.\n",
    "    : num_outputs: The number of output that the new tensor should be.\n",
    "    : return: A 2-D tensor where the second dimension is num_outputs.\n",
    "    \"\"\"\n",
    "    # TODO: Implement Function\n",
    "    return tf.contrib.layers.fully_connected(inputs=x_tensor, num_outputs=num_outputs, activation_fn=None)\n",
    "\n",
    "\n",
    "\"\"\"\n",
    "DON'T MODIFY ANYTHING IN THIS CELL THAT IS BELOW THIS LINE\n",
    "\"\"\"\n",
    "tests.test_output(output)"
   ]
  },
  {
   "cell_type": "markdown",
   "metadata": {
    "deletable": true,
    "editable": true
   },
   "source": [
    "### Create Convolutional Model\n",
    "Implement the function `conv_net` to create a convolutional neural network model. The function takes in a batch of images, `x`, and outputs logits.  Use the layers you created above to create this model:\n",
    "\n",
    "* Apply 1, 2, or 3 Convolution and Max Pool layers\n",
    "* Apply a Flatten Layer\n",
    "* Apply 1, 2, or 3 Fully Connected Layers\n",
    "* Apply an Output Layer\n",
    "* Return the output\n",
    "* Apply [TensorFlow's Dropout](https://www.tensorflow.org/api_docs/python/tf/nn/dropout) to one or more layers in the model using `keep_prob`. "
   ]
  },
  {
   "cell_type": "code",
   "execution_count": 19,
   "metadata": {
    "collapsed": false,
    "deletable": true,
    "editable": true
   },
   "outputs": [
    {
     "name": "stdout",
     "output_type": "stream",
     "text": [
      "Neural Network Built!\n"
     ]
    }
   ],
   "source": [
    "def conv_net(x, keep_prob):\n",
    "    \"\"\"\n",
    "    Create a convolutional neural network model\n",
    "    : x: Placeholder tensor that holds image data.\n",
    "    : keep_prob: Placeholder tensor that hold dropout keep probability.\n",
    "    : return: Tensor that represents logits\n",
    "    \"\"\"\n",
    "    # TODO: Apply 1, 2, or 3 Convolution and Max Pool layers\n",
    "    #    Play around with different number of outputs, kernel size and stride\n",
    "    # Function Definition from Above:\n",
    "    #    conv2d_maxpool(x_tensor, conv_num_outputs, conv_ksize, conv_strides, pool_ksize, pool_strides)\n",
    "    conv_layers = 3\n",
    "    conv_ksizes = [[4, 4], [4, 4], [4, 4]]\n",
    "    conv_num_outputs = [16, 32, 64]\n",
    "    conv_strides = [[1, 1], [1, 1], [1, 1]]\n",
    "    pool_sizes = [[2, 2], [2, 2], [2, 2]]\n",
    "    pool_strides = [[2, 2], [2, 2], [2, 2]]\n",
    "    \n",
    "    layer = x\n",
    "    for i in range(conv_layers):\n",
    "        layer = conv2d_maxpool(layer, conv_num_outputs[i], conv_ksizes[i], conv_strides[i], pool_sizes[i], pool_strides[i])\n",
    "        layer = conv2d_maxpool(layer, conv_num_outputs[i], conv_ksizes[i], conv_strides[i], pool_sizes[i], pool_strides[i])\n",
    "        layer = tf.nn.dropout(layer, keep_prob)\n",
    "#     print(layer)\n",
    "        \n",
    "    # TODO: Apply a Flatten Layer\n",
    "    # Function Definition from Above:\n",
    "    #   flatten(x_tensor)\n",
    "    flat_layer = flatten(layer)\n",
    "\n",
    "    # TODO: Apply 1, 2, or 3 Fully Connected Layers\n",
    "    #    Play around with different number of outputs\n",
    "    # Function Definition from Above:\n",
    "    #   fully_conn(x_tensor, num_outputs)\n",
    "    fc = fully_conn(flat_layer, 512)\n",
    "    fc2 = fully_conn(fc, 256)\n",
    "    \n",
    "    \n",
    "    # TODO: Apply an Output Layer\n",
    "    #    Set this to the number of classes\n",
    "    # Function Definition from Above:\n",
    "    #   output(x_tensor, num_outputs)\n",
    "    outputs = output(fc2, 10)\n",
    "    \n",
    "    # TODO: return output\n",
    "    return outputs\n",
    "\n",
    "\n",
    "\"\"\"\n",
    "DON'T MODIFY ANYTHING IN THIS CELL THAT IS BELOW THIS LINE\n",
    "\"\"\"\n",
    "\n",
    "##############################\n",
    "## Build the Neural Network ##\n",
    "##############################\n",
    "\n",
    "# Remove previous weights, bias, inputs, etc..\n",
    "tf.reset_default_graph()\n",
    "\n",
    "# Inputs\n",
    "x = neural_net_image_input((32, 32, 3))\n",
    "y = neural_net_label_input(10)\n",
    "keep_prob = neural_net_keep_prob_input()\n",
    "\n",
    "# Model\n",
    "logits = conv_net(x, keep_prob)\n",
    "\n",
    "# Name logits Tensor, so that is can be loaded from disk after training\n",
    "logits = tf.identity(logits, name='logits')\n",
    "\n",
    "# Loss and Optimizer\n",
    "cost = tf.reduce_mean(tf.nn.softmax_cross_entropy_with_logits(logits=logits, labels=y))\n",
    "optimizer = tf.train.AdamOptimizer().minimize(cost)\n",
    "\n",
    "# Accuracy\n",
    "correct_pred = tf.equal(tf.argmax(logits, 1), tf.argmax(y, 1))\n",
    "accuracy = tf.reduce_mean(tf.cast(correct_pred, tf.float32), name='accuracy')\n",
    "\n",
    "tests.test_conv_net(conv_net)"
   ]
  },
  {
   "cell_type": "markdown",
   "metadata": {
    "deletable": true,
    "editable": true
   },
   "source": [
    "## Train the Neural Network\n",
    "### Single Optimization\n",
    "Implement the function `train_neural_network` to do a single optimization.  The optimization should use `optimizer` to optimize in `session` with a `feed_dict` of the following:\n",
    "* `x` for image input\n",
    "* `y` for labels\n",
    "* `keep_prob` for keep probability for dropout\n",
    "\n",
    "This function will be called for each batch, so `tf.global_variables_initializer()` has already been called.\n",
    "\n",
    "Note: Nothing needs to be returned. This function is only optimizing the neural network."
   ]
  },
  {
   "cell_type": "code",
   "execution_count": 20,
   "metadata": {
    "collapsed": false,
    "deletable": true,
    "editable": true
   },
   "outputs": [
    {
     "name": "stdout",
     "output_type": "stream",
     "text": [
      "Tests Passed\n"
     ]
    }
   ],
   "source": [
    "def train_neural_network(session, optimizer, keep_probability, feature_batch, label_batch):\n",
    "    \"\"\"\n",
    "    Optimize the session on a batch of images and labels\n",
    "    : session: Current TensorFlow session\n",
    "    : optimizer: TensorFlow optimizer function\n",
    "    : keep_probability: keep probability\n",
    "    : feature_batch: Batch of Numpy image data\n",
    "    : label_batch: Batch of Numpy label data\n",
    "    \"\"\"\n",
    "    # TODO: Implement Function\n",
    "    session.run(optimizer, feed_dict={x: feature_batch, y: label_batch, keep_prob: keep_probability})\n",
    "\n",
    "\n",
    "\"\"\"\n",
    "DON'T MODIFY ANYTHING IN THIS CELL THAT IS BELOW THIS LINE\n",
    "\"\"\"\n",
    "tests.test_train_nn(train_neural_network)"
   ]
  },
  {
   "cell_type": "markdown",
   "metadata": {
    "deletable": true,
    "editable": true
   },
   "source": [
    "### Show Stats\n",
    "Implement the function `print_stats` to print loss and validation accuracy.  Use the global variables `valid_features` and `valid_labels` to calculate validation accuracy.  Use a keep probability of `1.0` to calculate the loss and validation accuracy."
   ]
  },
  {
   "cell_type": "code",
   "execution_count": 21,
   "metadata": {
    "collapsed": false,
    "deletable": true,
    "editable": true
   },
   "outputs": [],
   "source": [
    "def print_stats(session, feature_batch, label_batch, cost, accuracy):\n",
    "    \"\"\"\n",
    "    Print information about loss and validation accuracy\n",
    "    : session: Current TensorFlow session\n",
    "    : feature_batch: Batch of Numpy image data\n",
    "    : label_batch: Batch of Numpy label data\n",
    "    : cost: TensorFlow cost function\n",
    "    : accuracy: TensorFlow accuracy function\n",
    "    \"\"\"\n",
    "    # TODO: Implement Function\n",
    "    loss = session.run(cost, feed_dict={x: feature_batch, y: label_batch, keep_prob: 1.0})\n",
    "    accuracy = session.run(accuracy, feed_dict={x: valid_features, y: valid_labels, keep_prob: 1.0})\n",
    "    print(\"Loss: {}, Accuracy: {}\".format(loss, accuracy))"
   ]
  },
  {
   "cell_type": "markdown",
   "metadata": {
    "deletable": true,
    "editable": true
   },
   "source": [
    "### Hyperparameters\n",
    "Tune the following parameters:\n",
    "* Set `epochs` to the number of iterations until the network stops learning or start overfitting\n",
    "* Set `batch_size` to the highest number that your machine has memory for.  Most people set them to common sizes of memory:\n",
    " * 64\n",
    " * 128\n",
    " * 256\n",
    " * ...\n",
    "* Set `keep_probability` to the probability of keeping a node using dropout"
   ]
  },
  {
   "cell_type": "code",
   "execution_count": 22,
   "metadata": {
    "collapsed": true,
    "deletable": true,
    "editable": true
   },
   "outputs": [],
   "source": [
    "# TODO: Tune Parameters\n",
    "epochs = 100\n",
    "batch_size = 256\n",
    "keep_probability = 0.75"
   ]
  },
  {
   "cell_type": "markdown",
   "metadata": {
    "deletable": true,
    "editable": true
   },
   "source": [
    "### Train on a Single CIFAR-10 Batch\n",
    "Instead of training the neural network on all the CIFAR-10 batches of data, let's use a single batch. This should save time while you iterate on the model to get a better accuracy.  Once the final validation accuracy is 50% or greater, run the model on all the data in the next section."
   ]
  },
  {
   "cell_type": "code",
   "execution_count": 23,
   "metadata": {
    "collapsed": false,
    "deletable": true,
    "editable": true
   },
   "outputs": [
    {
     "name": "stdout",
     "output_type": "stream",
     "text": [
      "Checking the Training on a Single Batch...\n",
      "Epoch  1, CIFAR-10 Batch 1:  Loss: 2.2289023399353027, Accuracy: 0.16779997944831848\n",
      "Epoch  2, CIFAR-10 Batch 1:  Loss: 2.099869728088379, Accuracy: 0.25919997692108154\n",
      "Epoch  3, CIFAR-10 Batch 1:  Loss: 1.9874351024627686, Accuracy: 0.29739996790885925\n",
      "Epoch  4, CIFAR-10 Batch 1:  Loss: 1.9685695171356201, Accuracy: 0.32519999146461487\n",
      "Epoch  5, CIFAR-10 Batch 1:  Loss: 1.8308711051940918, Accuracy: 0.3416000008583069\n",
      "Epoch  6, CIFAR-10 Batch 1:  Loss: 1.7883291244506836, Accuracy: 0.3527999520301819\n",
      "Epoch  7, CIFAR-10 Batch 1:  Loss: 1.7148778438568115, Accuracy: 0.3742000162601471\n",
      "Epoch  8, CIFAR-10 Batch 1:  Loss: 1.6194818019866943, Accuracy: 0.4057999849319458\n",
      "Epoch  9, CIFAR-10 Batch 1:  Loss: 1.5849158763885498, Accuracy: 0.3937999904155731\n",
      "Epoch 10, CIFAR-10 Batch 1:  Loss: 1.4702818393707275, Accuracy: 0.42399999499320984\n",
      "Epoch 11, CIFAR-10 Batch 1:  Loss: 1.4582360982894897, Accuracy: 0.4147999882698059\n",
      "Epoch 12, CIFAR-10 Batch 1:  Loss: 1.3197782039642334, Accuracy: 0.43779996037483215\n",
      "Epoch 13, CIFAR-10 Batch 1:  Loss: 1.3222663402557373, Accuracy: 0.44419997930526733\n",
      "Epoch 14, CIFAR-10 Batch 1:  Loss: 1.2345354557037354, Accuracy: 0.4575999677181244\n",
      "Epoch 15, CIFAR-10 Batch 1:  Loss: 1.153660535812378, Accuracy: 0.45719996094703674\n",
      "Epoch 16, CIFAR-10 Batch 1:  Loss: 1.0865733623504639, Accuracy: 0.4675999581813812\n",
      "Epoch 17, CIFAR-10 Batch 1:  Loss: 1.0508109331130981, Accuracy: 0.4697999656200409\n",
      "Epoch 18, CIFAR-10 Batch 1:  Loss: 0.9789085388183594, Accuracy: 0.48719993233680725\n",
      "Epoch 19, CIFAR-10 Batch 1:  Loss: 0.9452217221260071, Accuracy: 0.48539999127388\n",
      "Epoch 20, CIFAR-10 Batch 1:  Loss: 0.8934916257858276, Accuracy: 0.49439993500709534\n",
      "Epoch 21, CIFAR-10 Batch 1:  Loss: 0.8625519275665283, Accuracy: 0.5003999471664429\n",
      "Epoch 22, CIFAR-10 Batch 1:  Loss: 0.8409970998764038, Accuracy: 0.4989999532699585\n",
      "Epoch 23, CIFAR-10 Batch 1:  Loss: 0.767163872718811, Accuracy: 0.5087999701499939\n",
      "Epoch 24, CIFAR-10 Batch 1:  Loss: 0.7841640710830688, Accuracy: 0.5073999762535095\n",
      "Epoch 25, CIFAR-10 Batch 1:  Loss: 0.7082266807556152, Accuracy: 0.5127999186515808\n",
      "Epoch 26, CIFAR-10 Batch 1:  Loss: 0.7293965816497803, Accuracy: 0.5215998888015747\n",
      "Epoch 27, CIFAR-10 Batch 1:  Loss: 0.7251414656639099, Accuracy: 0.5201999545097351\n",
      "Epoch 28, CIFAR-10 Batch 1:  Loss: 0.6303181052207947, Accuracy: 0.5241999626159668\n",
      "Epoch 29, CIFAR-10 Batch 1:  Loss: 0.6434575915336609, Accuracy: 0.5187999606132507\n",
      "Epoch 30, CIFAR-10 Batch 1:  Loss: 0.6394605040550232, Accuracy: 0.5369999408721924\n",
      "Epoch 31, CIFAR-10 Batch 1:  Loss: 0.5809260010719299, Accuracy: 0.5375999808311462\n",
      "Epoch 32, CIFAR-10 Batch 1:  Loss: 0.5450021624565125, Accuracy: 0.5383999347686768\n",
      "Epoch 33, CIFAR-10 Batch 1:  Loss: 0.5300765037536621, Accuracy: 0.545799970626831\n",
      "Epoch 34, CIFAR-10 Batch 1:  Loss: 0.5271425843238831, Accuracy: 0.531999945640564\n",
      "Epoch 35, CIFAR-10 Batch 1:  Loss: 0.5139129161834717, Accuracy: 0.5379999279975891\n",
      "Epoch 36, CIFAR-10 Batch 1:  Loss: 0.5130490064620972, Accuracy: 0.5449999570846558\n",
      "Epoch 37, CIFAR-10 Batch 1:  Loss: 0.46783095598220825, Accuracy: 0.532599925994873\n",
      "Epoch 38, CIFAR-10 Batch 1:  Loss: 0.4857856333255768, Accuracy: 0.5453999042510986\n",
      "Epoch 39, CIFAR-10 Batch 1:  Loss: 0.4823697507381439, Accuracy: 0.5453999638557434\n",
      "Epoch 40, CIFAR-10 Batch 1:  Loss: 0.4649459719657898, Accuracy: 0.5519999265670776\n",
      "Epoch 41, CIFAR-10 Batch 1:  Loss: 0.4247583746910095, Accuracy: 0.5489999651908875\n",
      "Epoch 42, CIFAR-10 Batch 1:  Loss: 0.44337570667266846, Accuracy: 0.5433999300003052\n",
      "Epoch 43, CIFAR-10 Batch 1:  Loss: 0.5430932641029358, Accuracy: 0.5413999557495117\n",
      "Epoch 44, CIFAR-10 Batch 1:  Loss: 0.40729907155036926, Accuracy: 0.5513999462127686\n",
      "Epoch 45, CIFAR-10 Batch 1:  Loss: 0.40318241715431213, Accuracy: 0.559999942779541\n",
      "Epoch 46, CIFAR-10 Batch 1:  Loss: 0.3977075219154358, Accuracy: 0.5583999156951904\n",
      "Epoch 47, CIFAR-10 Batch 1:  Loss: 0.40302005410194397, Accuracy: 0.559999942779541\n",
      "Epoch 48, CIFAR-10 Batch 1:  Loss: 0.3995265066623688, Accuracy: 0.5657999515533447\n",
      "Epoch 49, CIFAR-10 Batch 1:  Loss: 0.3451068103313446, Accuracy: 0.5549999475479126\n",
      "Epoch 50, CIFAR-10 Batch 1:  Loss: 0.352038711309433, Accuracy: 0.5693999528884888\n",
      "Epoch 51, CIFAR-10 Batch 1:  Loss: 0.3279046416282654, Accuracy: 0.5731999278068542\n",
      "Epoch 52, CIFAR-10 Batch 1:  Loss: 0.3166881203651428, Accuracy: 0.5627999305725098\n",
      "Epoch 53, CIFAR-10 Batch 1:  Loss: 0.3089350759983063, Accuracy: 0.5655998587608337\n",
      "Epoch 54, CIFAR-10 Batch 1:  Loss: 0.3489820957183838, Accuracy: 0.5523999333381653\n",
      "Epoch 55, CIFAR-10 Batch 1:  Loss: 0.3451806902885437, Accuracy: 0.5585999488830566\n",
      "Epoch 56, CIFAR-10 Batch 1:  Loss: 0.3354529142379761, Accuracy: 0.556399941444397\n",
      "Epoch 57, CIFAR-10 Batch 1:  Loss: 0.30459240078926086, Accuracy: 0.567599892616272\n",
      "Epoch 58, CIFAR-10 Batch 1:  Loss: 0.28795352578163147, Accuracy: 0.5633999109268188\n",
      "Epoch 59, CIFAR-10 Batch 1:  Loss: 0.31272605061531067, Accuracy: 0.55159991979599\n",
      "Epoch 60, CIFAR-10 Batch 1:  Loss: 0.27732378244400024, Accuracy: 0.5655999183654785\n",
      "Epoch 61, CIFAR-10 Batch 1:  Loss: 0.2710098922252655, Accuracy: 0.5689998865127563\n",
      "Epoch 62, CIFAR-10 Batch 1:  Loss: 0.2863848805427551, Accuracy: 0.559999942779541\n",
      "Epoch 63, CIFAR-10 Batch 1:  Loss: 0.29280105233192444, Accuracy: 0.5651999115943909\n",
      "Epoch 64, CIFAR-10 Batch 1:  Loss: 0.2705104947090149, Accuracy: 0.5707999467849731\n",
      "Epoch 65, CIFAR-10 Batch 1:  Loss: 0.2734685242176056, Accuracy: 0.5711999535560608\n",
      "Epoch 66, CIFAR-10 Batch 1:  Loss: 0.3035033643245697, Accuracy: 0.5629999041557312\n",
      "Epoch 67, CIFAR-10 Batch 1:  Loss: 0.2821834981441498, Accuracy: 0.5749999284744263\n",
      "Epoch 68, CIFAR-10 Batch 1:  Loss: 0.2670370936393738, Accuracy: 0.5615999698638916\n",
      "Epoch 69, CIFAR-10 Batch 1:  Loss: 0.23067155480384827, Accuracy: 0.567599892616272\n",
      "Epoch 70, CIFAR-10 Batch 1:  Loss: 0.24620234966278076, Accuracy: 0.5589998960494995\n",
      "Epoch 71, CIFAR-10 Batch 1:  Loss: 0.23679903149604797, Accuracy: 0.5719999074935913\n",
      "Epoch 72, CIFAR-10 Batch 1:  Loss: 0.2463228702545166, Accuracy: 0.5781999230384827\n",
      "Epoch 73, CIFAR-10 Batch 1:  Loss: 0.2490905374288559, Accuracy: 0.5633999109268188\n",
      "Epoch 74, CIFAR-10 Batch 1:  Loss: 0.26556819677352905, Accuracy: 0.5785999298095703\n",
      "Epoch 75, CIFAR-10 Batch 1:  Loss: 0.21917548775672913, Accuracy: 0.5717999339103699\n",
      "Epoch 76, CIFAR-10 Batch 1:  Loss: 0.2127193659543991, Accuracy: 0.5767999291419983\n",
      "Epoch 77, CIFAR-10 Batch 1:  Loss: 0.20706067979335785, Accuracy: 0.5749999284744263\n",
      "Epoch 78, CIFAR-10 Batch 1:  Loss: 0.18223294615745544, Accuracy: 0.5705999135971069\n",
      "Epoch 79, CIFAR-10 Batch 1:  Loss: 0.17326146364212036, Accuracy: 0.5781999230384827\n",
      "Epoch 80, CIFAR-10 Batch 1:  Loss: 0.1963910311460495, Accuracy: 0.561799943447113\n",
      "Epoch 81, CIFAR-10 Batch 1:  Loss: 0.18148274719715118, Accuracy: 0.5787999033927917\n",
      "Epoch 82, CIFAR-10 Batch 1:  Loss: 0.17405250668525696, Accuracy: 0.5827999114990234\n",
      "Epoch 83, CIFAR-10 Batch 1:  Loss: 0.19879750907421112, Accuracy: 0.5851999521255493\n",
      "Epoch 84, CIFAR-10 Batch 1:  Loss: 0.18508218228816986, Accuracy: 0.5703999400138855\n",
      "Epoch 85, CIFAR-10 Batch 1:  Loss: 0.18361824750900269, Accuracy: 0.574199914932251\n",
      "Epoch 86, CIFAR-10 Batch 1:  Loss: 0.18054205179214478, Accuracy: 0.5707999467849731\n",
      "Epoch 87, CIFAR-10 Batch 1:  Loss: 0.16356433928012848, Accuracy: 0.5827999114990234\n",
      "Epoch 88, CIFAR-10 Batch 1:  Loss: 0.16854344308376312, Accuracy: 0.5825998783111572\n",
      "Epoch 89, CIFAR-10 Batch 1:  Loss: 0.1392192840576172, Accuracy: 0.5837998986244202\n",
      "Epoch 90, CIFAR-10 Batch 1:  Loss: 0.14371946454048157, Accuracy: 0.5729999542236328\n",
      "Epoch 91, CIFAR-10 Batch 1:  Loss: 0.14656150341033936, Accuracy: 0.5781999826431274\n",
      "Epoch 92, CIFAR-10 Batch 1:  Loss: 0.149203360080719, Accuracy: 0.58079993724823\n",
      "Epoch 93, CIFAR-10 Batch 1:  Loss: 0.13423126935958862, Accuracy: 0.5819999575614929\n",
      "Epoch 94, CIFAR-10 Batch 1:  Loss: 0.13365834951400757, Accuracy: 0.5817998647689819\n",
      "Epoch 95, CIFAR-10 Batch 1:  Loss: 0.13552138209342957, Accuracy: 0.5927999019622803\n",
      "Epoch 96, CIFAR-10 Batch 1:  Loss: 0.1396028995513916, Accuracy: 0.5859999060630798\n",
      "Epoch 97, CIFAR-10 Batch 1:  Loss: 0.1412886381149292, Accuracy: 0.5893999338150024\n",
      "Epoch 98, CIFAR-10 Batch 1:  Loss: 0.13194137811660767, Accuracy: 0.596799910068512\n",
      "Epoch 99, CIFAR-10 Batch 1:  Loss: 0.13463029265403748, Accuracy: 0.5915999412536621\n",
      "Epoch 100, CIFAR-10 Batch 1:  Loss: 0.12828540802001953, Accuracy: 0.590399980545044\n"
     ]
    }
   ],
   "source": [
    "\"\"\"\n",
    "DON'T MODIFY ANYTHING IN THIS CELL\n",
    "\"\"\"\n",
    "print('Checking the Training on a Single Batch...')\n",
    "with tf.Session() as sess:\n",
    "    # Initializing the variables\n",
    "    sess.run(tf.global_variables_initializer())\n",
    "    \n",
    "    # Training cycle\n",
    "    for epoch in range(epochs):\n",
    "        batch_i = 1\n",
    "        for batch_features, batch_labels in helper.load_preprocess_training_batch(batch_i, batch_size):\n",
    "            train_neural_network(sess, optimizer, keep_probability, batch_features, batch_labels)\n",
    "        print('Epoch {:>2}, CIFAR-10 Batch {}:  '.format(epoch + 1, batch_i), end='')\n",
    "        print_stats(sess, batch_features, batch_labels, cost, accuracy)"
   ]
  },
  {
   "cell_type": "markdown",
   "metadata": {
    "deletable": true,
    "editable": true
   },
   "source": [
    "### Fully Train the Model\n",
    "Now that you got a good accuracy with a single CIFAR-10 batch, try it with all five batches."
   ]
  },
  {
   "cell_type": "code",
   "execution_count": 24,
   "metadata": {
    "collapsed": false,
    "deletable": true,
    "editable": true
   },
   "outputs": [
    {
     "name": "stdout",
     "output_type": "stream",
     "text": [
      "Training...\n",
      "Epoch  1, CIFAR-10 Batch 1:  Loss: 2.232011318206787, Accuracy: 0.17879998683929443\n",
      "Epoch  1, CIFAR-10 Batch 2:  Loss: 1.9807960987091064, Accuracy: 0.23339998722076416\n",
      "Epoch  1, CIFAR-10 Batch 3:  Loss: 1.762341022491455, Accuracy: 0.24559998512268066\n",
      "Epoch  1, CIFAR-10 Batch 4:  Loss: 1.7793242931365967, Accuracy: 0.28360000252723694\n",
      "Epoch  1, CIFAR-10 Batch 5:  Loss: 1.9209239482879639, Accuracy: 0.28360000252723694\n",
      "Epoch  2, CIFAR-10 Batch 1:  Loss: 1.959857702255249, Accuracy: 0.3447999954223633\n",
      "Epoch  2, CIFAR-10 Batch 2:  Loss: 1.6803934574127197, Accuracy: 0.3381999731063843\n",
      "Epoch  2, CIFAR-10 Batch 3:  Loss: 1.3882828950881958, Accuracy: 0.3571999967098236\n",
      "Epoch  2, CIFAR-10 Batch 4:  Loss: 1.594390630722046, Accuracy: 0.4047999978065491\n",
      "Epoch  2, CIFAR-10 Batch 5:  Loss: 1.7111001014709473, Accuracy: 0.3837999999523163\n",
      "Epoch  3, CIFAR-10 Batch 1:  Loss: 1.6829639673233032, Accuracy: 0.4121999740600586\n",
      "Epoch  3, CIFAR-10 Batch 2:  Loss: 1.5522902011871338, Accuracy: 0.40619996190071106\n",
      "Epoch  3, CIFAR-10 Batch 3:  Loss: 1.23191237449646, Accuracy: 0.4197999835014343\n",
      "Epoch  3, CIFAR-10 Batch 4:  Loss: 1.469948172569275, Accuracy: 0.45719996094703674\n",
      "Epoch  3, CIFAR-10 Batch 5:  Loss: 1.5599985122680664, Accuracy: 0.4339999854564667\n",
      "Epoch  4, CIFAR-10 Batch 1:  Loss: 1.543737530708313, Accuracy: 0.468999981880188\n",
      "Epoch  4, CIFAR-10 Batch 2:  Loss: 1.3860158920288086, Accuracy: 0.4521999657154083\n",
      "Epoch  4, CIFAR-10 Batch 3:  Loss: 1.1671677827835083, Accuracy: 0.4717999994754791\n",
      "Epoch  4, CIFAR-10 Batch 4:  Loss: 1.2841053009033203, Accuracy: 0.47679996490478516\n",
      "Epoch  4, CIFAR-10 Batch 5:  Loss: 1.3805725574493408, Accuracy: 0.48339998722076416\n",
      "Epoch  5, CIFAR-10 Batch 1:  Loss: 1.2855472564697266, Accuracy: 0.4957999587059021\n",
      "Epoch  5, CIFAR-10 Batch 2:  Loss: 1.2707855701446533, Accuracy: 0.468999981880188\n",
      "Epoch  5, CIFAR-10 Batch 3:  Loss: 1.112797737121582, Accuracy: 0.507599949836731\n",
      "Epoch  5, CIFAR-10 Batch 4:  Loss: 1.1524903774261475, Accuracy: 0.5179999470710754\n",
      "Epoch  5, CIFAR-10 Batch 5:  Loss: 1.2080614566802979, Accuracy: 0.5067999362945557\n",
      "Epoch  6, CIFAR-10 Batch 1:  Loss: 1.1486577987670898, Accuracy: 0.5237998962402344\n",
      "Epoch  6, CIFAR-10 Batch 2:  Loss: 1.1884018182754517, Accuracy: 0.4997999668121338\n",
      "Epoch  6, CIFAR-10 Batch 3:  Loss: 0.9778550863265991, Accuracy: 0.5229999423027039\n",
      "Epoch  6, CIFAR-10 Batch 4:  Loss: 1.1070683002471924, Accuracy: 0.5365999341011047\n",
      "Epoch  6, CIFAR-10 Batch 5:  Loss: 1.1457051038742065, Accuracy: 0.5345999002456665\n",
      "Epoch  7, CIFAR-10 Batch 1:  Loss: 1.033612847328186, Accuracy: 0.5301999449729919\n",
      "Epoch  7, CIFAR-10 Batch 2:  Loss: 1.138731837272644, Accuracy: 0.500999927520752\n",
      "Epoch  7, CIFAR-10 Batch 3:  Loss: 0.9372880458831787, Accuracy: 0.5429999232292175\n",
      "Epoch  7, CIFAR-10 Batch 4:  Loss: 1.0184924602508545, Accuracy: 0.5381999611854553\n",
      "Epoch  7, CIFAR-10 Batch 5:  Loss: 1.1126399040222168, Accuracy: 0.5375999212265015\n",
      "Epoch  8, CIFAR-10 Batch 1:  Loss: 0.9292310476303101, Accuracy: 0.5539999604225159\n",
      "Epoch  8, CIFAR-10 Batch 2:  Loss: 1.062982201576233, Accuracy: 0.5341999530792236\n",
      "Epoch  8, CIFAR-10 Batch 3:  Loss: 0.9606248736381531, Accuracy: 0.5363999605178833\n",
      "Epoch  8, CIFAR-10 Batch 4:  Loss: 1.012798547744751, Accuracy: 0.5715999603271484\n",
      "Epoch  8, CIFAR-10 Batch 5:  Loss: 1.1004903316497803, Accuracy: 0.5485999584197998\n",
      "Epoch  9, CIFAR-10 Batch 1:  Loss: 0.9351028203964233, Accuracy: 0.5705999135971069\n",
      "Epoch  9, CIFAR-10 Batch 2:  Loss: 1.0379289388656616, Accuracy: 0.5477998852729797\n",
      "Epoch  9, CIFAR-10 Batch 3:  Loss: 0.8284883499145508, Accuracy: 0.5771999359130859\n",
      "Epoch  9, CIFAR-10 Batch 4:  Loss: 0.9773352146148682, Accuracy: 0.5811999440193176\n",
      "Epoch  9, CIFAR-10 Batch 5:  Loss: 0.98752760887146, Accuracy: 0.5643999576568604\n",
      "Epoch 10, CIFAR-10 Batch 1:  Loss: 0.8858147263526917, Accuracy: 0.5775998830795288\n",
      "Epoch 10, CIFAR-10 Batch 2:  Loss: 0.9630645513534546, Accuracy: 0.5459999442100525\n",
      "Epoch 10, CIFAR-10 Batch 3:  Loss: 0.7652431726455688, Accuracy: 0.5848000049591064\n",
      "Epoch 10, CIFAR-10 Batch 4:  Loss: 0.8858147859573364, Accuracy: 0.603399932384491\n",
      "Epoch 10, CIFAR-10 Batch 5:  Loss: 0.8953709602355957, Accuracy: 0.5885999202728271\n",
      "Epoch 11, CIFAR-10 Batch 1:  Loss: 0.8553021550178528, Accuracy: 0.5889999270439148\n",
      "Epoch 11, CIFAR-10 Batch 2:  Loss: 0.950903058052063, Accuracy: 0.5785999298095703\n",
      "Epoch 11, CIFAR-10 Batch 3:  Loss: 0.719842791557312, Accuracy: 0.5923999547958374\n",
      "Epoch 11, CIFAR-10 Batch 4:  Loss: 0.8400160074234009, Accuracy: 0.5893999338150024\n",
      "Epoch 11, CIFAR-10 Batch 5:  Loss: 0.8606927394866943, Accuracy: 0.5971999168395996\n",
      "Epoch 12, CIFAR-10 Batch 1:  Loss: 0.8002216815948486, Accuracy: 0.5959999561309814\n",
      "Epoch 12, CIFAR-10 Batch 2:  Loss: 0.8756085634231567, Accuracy: 0.5827999114990234\n",
      "Epoch 12, CIFAR-10 Batch 3:  Loss: 0.6445354223251343, Accuracy: 0.6007999777793884\n",
      "Epoch 12, CIFAR-10 Batch 4:  Loss: 0.8181359767913818, Accuracy: 0.6005998849868774\n",
      "Epoch 12, CIFAR-10 Batch 5:  Loss: 0.8872861862182617, Accuracy: 0.601599931716919\n",
      "Epoch 13, CIFAR-10 Batch 1:  Loss: 0.7811111211776733, Accuracy: 0.6119999289512634\n",
      "Epoch 13, CIFAR-10 Batch 2:  Loss: 0.8202623724937439, Accuracy: 0.600399911403656\n",
      "Epoch 13, CIFAR-10 Batch 3:  Loss: 0.6268224716186523, Accuracy: 0.608199954032898\n",
      "Epoch 13, CIFAR-10 Batch 4:  Loss: 0.8097137212753296, Accuracy: 0.5923998951911926\n",
      "Epoch 13, CIFAR-10 Batch 5:  Loss: 0.8359639048576355, Accuracy: 0.600399911403656\n",
      "Epoch 14, CIFAR-10 Batch 1:  Loss: 0.772680401802063, Accuracy: 0.6045998930931091\n",
      "Epoch 14, CIFAR-10 Batch 2:  Loss: 0.7955000400543213, Accuracy: 0.602400004863739\n",
      "Epoch 14, CIFAR-10 Batch 3:  Loss: 0.59010249376297, Accuracy: 0.6209999322891235\n",
      "Epoch 14, CIFAR-10 Batch 4:  Loss: 0.7793228626251221, Accuracy: 0.6101998686790466\n",
      "Epoch 14, CIFAR-10 Batch 5:  Loss: 0.7770671844482422, Accuracy: 0.605199933052063\n",
      "Epoch 15, CIFAR-10 Batch 1:  Loss: 0.6852918863296509, Accuracy: 0.622999906539917\n",
      "Epoch 15, CIFAR-10 Batch 2:  Loss: 0.7776507139205933, Accuracy: 0.5977998971939087\n",
      "Epoch 15, CIFAR-10 Batch 3:  Loss: 0.599919855594635, Accuracy: 0.608799934387207\n",
      "Epoch 15, CIFAR-10 Batch 4:  Loss: 0.7385700941085815, Accuracy: 0.6261999011039734\n",
      "Epoch 15, CIFAR-10 Batch 5:  Loss: 0.7314517498016357, Accuracy: 0.6281998753547668\n",
      "Epoch 16, CIFAR-10 Batch 1:  Loss: 0.6924206018447876, Accuracy: 0.6219998598098755\n",
      "Epoch 16, CIFAR-10 Batch 2:  Loss: 0.6931846737861633, Accuracy: 0.6269998550415039\n",
      "Epoch 16, CIFAR-10 Batch 3:  Loss: 0.563363790512085, Accuracy: 0.6141998767852783\n",
      "Epoch 16, CIFAR-10 Batch 4:  Loss: 0.7142012119293213, Accuracy: 0.629599928855896\n",
      "Epoch 16, CIFAR-10 Batch 5:  Loss: 0.7544269561767578, Accuracy: 0.6189998984336853\n",
      "Epoch 17, CIFAR-10 Batch 1:  Loss: 0.6617275476455688, Accuracy: 0.629599928855896\n",
      "Epoch 17, CIFAR-10 Batch 2:  Loss: 0.6732852458953857, Accuracy: 0.6329998970031738\n",
      "Epoch 17, CIFAR-10 Batch 3:  Loss: 0.5450617074966431, Accuracy: 0.6199999451637268\n",
      "Epoch 17, CIFAR-10 Batch 4:  Loss: 0.6661563515663147, Accuracy: 0.6333999037742615\n",
      "Epoch 17, CIFAR-10 Batch 5:  Loss: 0.7735599279403687, Accuracy: 0.6103999018669128\n",
      "Epoch 18, CIFAR-10 Batch 1:  Loss: 0.6974057555198669, Accuracy: 0.6095999479293823\n",
      "Epoch 18, CIFAR-10 Batch 2:  Loss: 0.6572827696800232, Accuracy: 0.6289998888969421\n",
      "Epoch 18, CIFAR-10 Batch 3:  Loss: 0.5393091440200806, Accuracy: 0.6373999118804932\n",
      "Epoch 18, CIFAR-10 Batch 4:  Loss: 0.6183798909187317, Accuracy: 0.6357998847961426\n",
      "Epoch 18, CIFAR-10 Batch 5:  Loss: 0.6929222345352173, Accuracy: 0.6325998902320862\n",
      "Epoch 19, CIFAR-10 Batch 1:  Loss: 0.6394238471984863, Accuracy: 0.6253998875617981\n",
      "Epoch 19, CIFAR-10 Batch 2:  Loss: 0.6160531640052795, Accuracy: 0.6291999220848083\n",
      "Epoch 19, CIFAR-10 Batch 3:  Loss: 0.4692404866218567, Accuracy: 0.6307998895645142\n",
      "Epoch 19, CIFAR-10 Batch 4:  Loss: 0.6356867551803589, Accuracy: 0.6439998745918274\n",
      "Epoch 19, CIFAR-10 Batch 5:  Loss: 0.5932321548461914, Accuracy: 0.6411998867988586\n",
      "Epoch 20, CIFAR-10 Batch 1:  Loss: 0.5800923109054565, Accuracy: 0.6439998745918274\n",
      "Epoch 20, CIFAR-10 Batch 2:  Loss: 0.5806646943092346, Accuracy: 0.6267999410629272\n",
      "Epoch 20, CIFAR-10 Batch 3:  Loss: 0.48416656255722046, Accuracy: 0.6373999118804932\n",
      "Epoch 20, CIFAR-10 Batch 4:  Loss: 0.5997849702835083, Accuracy: 0.6473998427391052\n",
      "Epoch 20, CIFAR-10 Batch 5:  Loss: 0.650313138961792, Accuracy: 0.6337999105453491\n",
      "Epoch 21, CIFAR-10 Batch 1:  Loss: 0.604744553565979, Accuracy: 0.6235998868942261\n",
      "Epoch 21, CIFAR-10 Batch 2:  Loss: 0.6175435781478882, Accuracy: 0.6351999044418335\n",
      "Epoch 21, CIFAR-10 Batch 3:  Loss: 0.464874804019928, Accuracy: 0.643799901008606\n",
      "Epoch 21, CIFAR-10 Batch 4:  Loss: 0.5648886561393738, Accuracy: 0.6423999071121216\n",
      "Epoch 21, CIFAR-10 Batch 5:  Loss: 0.5988600850105286, Accuracy: 0.6405999064445496\n",
      "Epoch 22, CIFAR-10 Batch 1:  Loss: 0.604857325553894, Accuracy: 0.6383998990058899\n",
      "Epoch 22, CIFAR-10 Batch 2:  Loss: 0.585321843624115, Accuracy: 0.643799901008606\n",
      "Epoch 22, CIFAR-10 Batch 3:  Loss: 0.4733196496963501, Accuracy: 0.6477998495101929\n",
      "Epoch 22, CIFAR-10 Batch 4:  Loss: 0.564185380935669, Accuracy: 0.6511998772621155\n",
      "Epoch 22, CIFAR-10 Batch 5:  Loss: 0.5922357439994812, Accuracy: 0.6289998888969421\n",
      "Epoch 23, CIFAR-10 Batch 1:  Loss: 0.5490914583206177, Accuracy: 0.6481999158859253\n",
      "Epoch 23, CIFAR-10 Batch 2:  Loss: 0.5357407331466675, Accuracy: 0.6551998853683472\n",
      "Epoch 23, CIFAR-10 Batch 3:  Loss: 0.45365703105926514, Accuracy: 0.6479998826980591\n",
      "Epoch 23, CIFAR-10 Batch 4:  Loss: 0.5251570343971252, Accuracy: 0.6553998589515686\n",
      "Epoch 23, CIFAR-10 Batch 5:  Loss: 0.614054262638092, Accuracy: 0.6239999532699585\n",
      "Epoch 24, CIFAR-10 Batch 1:  Loss: 0.5364212393760681, Accuracy: 0.6501998901367188\n",
      "Epoch 24, CIFAR-10 Batch 2:  Loss: 0.5482258796691895, Accuracy: 0.6449999213218689\n",
      "Epoch 24, CIFAR-10 Batch 3:  Loss: 0.4204753339290619, Accuracy: 0.6527998447418213\n",
      "Epoch 24, CIFAR-10 Batch 4:  Loss: 0.5033761262893677, Accuracy: 0.6575998663902283\n",
      "Epoch 24, CIFAR-10 Batch 5:  Loss: 0.610933244228363, Accuracy: 0.635999858379364\n",
      "Epoch 25, CIFAR-10 Batch 1:  Loss: 0.5412548780441284, Accuracy: 0.6461998224258423\n",
      "Epoch 25, CIFAR-10 Batch 2:  Loss: 0.4869183897972107, Accuracy: 0.6491998434066772\n",
      "Epoch 25, CIFAR-10 Batch 3:  Loss: 0.44244012236595154, Accuracy: 0.650399923324585\n",
      "Epoch 25, CIFAR-10 Batch 4:  Loss: 0.46746933460235596, Accuracy: 0.6589998602867126\n",
      "Epoch 25, CIFAR-10 Batch 5:  Loss: 0.5805361270904541, Accuracy: 0.6547998785972595\n",
      "Epoch 26, CIFAR-10 Batch 1:  Loss: 0.514289140701294, Accuracy: 0.6597999334335327\n",
      "Epoch 26, CIFAR-10 Batch 2:  Loss: 0.5294288992881775, Accuracy: 0.6467998623847961\n",
      "Epoch 26, CIFAR-10 Batch 3:  Loss: 0.4042162597179413, Accuracy: 0.6561998724937439\n",
      "Epoch 26, CIFAR-10 Batch 4:  Loss: 0.4605064392089844, Accuracy: 0.6681998372077942\n",
      "Epoch 26, CIFAR-10 Batch 5:  Loss: 0.5736802816390991, Accuracy: 0.6339998841285706\n",
      "Epoch 27, CIFAR-10 Batch 1:  Loss: 0.5279337167739868, Accuracy: 0.6503998637199402\n",
      "Epoch 27, CIFAR-10 Batch 2:  Loss: 0.5378673076629639, Accuracy: 0.6533998847007751\n",
      "Epoch 27, CIFAR-10 Batch 3:  Loss: 0.4235864281654358, Accuracy: 0.6583999395370483\n",
      "Epoch 27, CIFAR-10 Batch 4:  Loss: 0.5125684142112732, Accuracy: 0.668199896812439\n",
      "Epoch 27, CIFAR-10 Batch 5:  Loss: 0.5915014743804932, Accuracy: 0.6559998989105225\n",
      "Epoch 28, CIFAR-10 Batch 1:  Loss: 0.48562443256378174, Accuracy: 0.6613999605178833\n",
      "Epoch 28, CIFAR-10 Batch 2:  Loss: 0.4934646189212799, Accuracy: 0.662199854850769\n",
      "Epoch 28, CIFAR-10 Batch 3:  Loss: 0.4320805072784424, Accuracy: 0.6523998975753784\n",
      "Epoch 28, CIFAR-10 Batch 4:  Loss: 0.44755011796951294, Accuracy: 0.671799898147583\n",
      "Epoch 28, CIFAR-10 Batch 5:  Loss: 0.5536909103393555, Accuracy: 0.6459999084472656\n",
      "Epoch 29, CIFAR-10 Batch 1:  Loss: 0.4792364239692688, Accuracy: 0.6627999544143677\n",
      "Epoch 29, CIFAR-10 Batch 2:  Loss: 0.4786880612373352, Accuracy: 0.6605998873710632\n",
      "Epoch 29, CIFAR-10 Batch 3:  Loss: 0.3859530985355377, Accuracy: 0.6607999205589294\n",
      "Epoch 29, CIFAR-10 Batch 4:  Loss: 0.42403334379196167, Accuracy: 0.6711999177932739\n",
      "Epoch 29, CIFAR-10 Batch 5:  Loss: 0.5289500951766968, Accuracy: 0.6611998677253723\n",
      "Epoch 30, CIFAR-10 Batch 1:  Loss: 0.5074763298034668, Accuracy: 0.6721998453140259\n",
      "Epoch 30, CIFAR-10 Batch 2:  Loss: 0.46122583746910095, Accuracy: 0.6599998474121094\n",
      "Epoch 30, CIFAR-10 Batch 3:  Loss: 0.38274452090263367, Accuracy: 0.6649999022483826\n",
      "Epoch 30, CIFAR-10 Batch 4:  Loss: 0.4129677414894104, Accuracy: 0.6757999062538147\n",
      "Epoch 30, CIFAR-10 Batch 5:  Loss: 0.48387429118156433, Accuracy: 0.6579999327659607\n",
      "Epoch 31, CIFAR-10 Batch 1:  Loss: 0.46067172288894653, Accuracy: 0.6595999002456665\n",
      "Epoch 31, CIFAR-10 Batch 2:  Loss: 0.4377594590187073, Accuracy: 0.6679999232292175\n",
      "Epoch 31, CIFAR-10 Batch 3:  Loss: 0.3937501907348633, Accuracy: 0.658599853515625\n",
      "Epoch 31, CIFAR-10 Batch 4:  Loss: 0.4090253412723541, Accuracy: 0.6761999130249023\n",
      "Epoch 31, CIFAR-10 Batch 5:  Loss: 0.45755958557128906, Accuracy: 0.6773998737335205\n",
      "Epoch 32, CIFAR-10 Batch 1:  Loss: 0.4317609965801239, Accuracy: 0.6665998697280884\n",
      "Epoch 32, CIFAR-10 Batch 2:  Loss: 0.4671839773654938, Accuracy: 0.6785998344421387\n",
      "Epoch 32, CIFAR-10 Batch 3:  Loss: 0.3588521182537079, Accuracy: 0.674799919128418\n",
      "Epoch 32, CIFAR-10 Batch 4:  Loss: 0.44623544812202454, Accuracy: 0.6703999042510986\n",
      "Epoch 32, CIFAR-10 Batch 5:  Loss: 0.49582502245903015, Accuracy: 0.6723998785018921\n",
      "Epoch 33, CIFAR-10 Batch 1:  Loss: 0.45729315280914307, Accuracy: 0.6747998595237732\n",
      "Epoch 33, CIFAR-10 Batch 2:  Loss: 0.45909446477890015, Accuracy: 0.662199854850769\n",
      "Epoch 33, CIFAR-10 Batch 3:  Loss: 0.39586204290390015, Accuracy: 0.6833998560905457\n",
      "Epoch 33, CIFAR-10 Batch 4:  Loss: 0.40945354104042053, Accuracy: 0.6789999008178711\n",
      "Epoch 33, CIFAR-10 Batch 5:  Loss: 0.49675118923187256, Accuracy: 0.6673999428749084\n",
      "Epoch 34, CIFAR-10 Batch 1:  Loss: 0.4711553454399109, Accuracy: 0.6647999286651611\n",
      "Epoch 34, CIFAR-10 Batch 2:  Loss: 0.4253696799278259, Accuracy: 0.6713998913764954\n",
      "Epoch 34, CIFAR-10 Batch 3:  Loss: 0.3178989291191101, Accuracy: 0.6801998019218445\n",
      "Epoch 34, CIFAR-10 Batch 4:  Loss: 0.429471492767334, Accuracy: 0.6731998920440674\n",
      "Epoch 34, CIFAR-10 Batch 5:  Loss: 0.5332115888595581, Accuracy: 0.6711998581886292\n",
      "Epoch 35, CIFAR-10 Batch 1:  Loss: 0.43858736753463745, Accuracy: 0.679999828338623\n",
      "Epoch 35, CIFAR-10 Batch 2:  Loss: 0.430663138628006, Accuracy: 0.6729998588562012\n",
      "Epoch 35, CIFAR-10 Batch 3:  Loss: 0.35611724853515625, Accuracy: 0.6817998886108398\n",
      "Epoch 35, CIFAR-10 Batch 4:  Loss: 0.41987553238868713, Accuracy: 0.6861998438835144\n",
      "Epoch 35, CIFAR-10 Batch 5:  Loss: 0.5244117975234985, Accuracy: 0.6515998840332031\n",
      "Epoch 36, CIFAR-10 Batch 1:  Loss: 0.41911572217941284, Accuracy: 0.6885998845100403\n",
      "Epoch 36, CIFAR-10 Batch 2:  Loss: 0.4232774078845978, Accuracy: 0.6791999340057373\n",
      "Epoch 36, CIFAR-10 Batch 3:  Loss: 0.3595468997955322, Accuracy: 0.6845998764038086\n",
      "Epoch 36, CIFAR-10 Batch 4:  Loss: 0.3961205780506134, Accuracy: 0.6837998628616333\n",
      "Epoch 36, CIFAR-10 Batch 5:  Loss: 0.45871806144714355, Accuracy: 0.6789999008178711\n",
      "Epoch 37, CIFAR-10 Batch 1:  Loss: 0.41181033849716187, Accuracy: 0.6905998587608337\n",
      "Epoch 37, CIFAR-10 Batch 2:  Loss: 0.42621925473213196, Accuracy: 0.6661998629570007\n",
      "Epoch 37, CIFAR-10 Batch 3:  Loss: 0.3969847857952118, Accuracy: 0.6721998453140259\n",
      "Epoch 37, CIFAR-10 Batch 4:  Loss: 0.3815510869026184, Accuracy: 0.6837998628616333\n",
      "Epoch 37, CIFAR-10 Batch 5:  Loss: 0.45372486114501953, Accuracy: 0.6827998757362366\n",
      "Epoch 38, CIFAR-10 Batch 1:  Loss: 0.3733685612678528, Accuracy: 0.6787998080253601\n",
      "Epoch 38, CIFAR-10 Batch 2:  Loss: 0.41487592458724976, Accuracy: 0.6797998547554016\n",
      "Epoch 38, CIFAR-10 Batch 3:  Loss: 0.3257991075515747, Accuracy: 0.6823998689651489\n",
      "Epoch 38, CIFAR-10 Batch 4:  Loss: 0.38868534564971924, Accuracy: 0.6897999048233032\n",
      "Epoch 38, CIFAR-10 Batch 5:  Loss: 0.5048905611038208, Accuracy: 0.6649998426437378\n",
      "Epoch 39, CIFAR-10 Batch 1:  Loss: 0.4309219717979431, Accuracy: 0.6749998331069946\n",
      "Epoch 39, CIFAR-10 Batch 2:  Loss: 0.38281458616256714, Accuracy: 0.6805999279022217\n",
      "Epoch 39, CIFAR-10 Batch 3:  Loss: 0.35868746042251587, Accuracy: 0.6831998825073242\n",
      "Epoch 39, CIFAR-10 Batch 4:  Loss: 0.3488399386405945, Accuracy: 0.6843998432159424\n",
      "Epoch 39, CIFAR-10 Batch 5:  Loss: 0.44477975368499756, Accuracy: 0.6733998656272888\n",
      "Epoch 40, CIFAR-10 Batch 1:  Loss: 0.4071553945541382, Accuracy: 0.6861999034881592\n",
      "Epoch 40, CIFAR-10 Batch 2:  Loss: 0.3759896159172058, Accuracy: 0.6845998764038086\n",
      "Epoch 40, CIFAR-10 Batch 3:  Loss: 0.35772544145584106, Accuracy: 0.6803998947143555\n",
      "Epoch 40, CIFAR-10 Batch 4:  Loss: 0.38185447454452515, Accuracy: 0.6921998262405396\n",
      "Epoch 40, CIFAR-10 Batch 5:  Loss: 0.40060845017433167, Accuracy: 0.6819998621940613\n",
      "Epoch 41, CIFAR-10 Batch 1:  Loss: 0.39038166403770447, Accuracy: 0.6861998438835144\n",
      "Epoch 41, CIFAR-10 Batch 2:  Loss: 0.36329323053359985, Accuracy: 0.666999876499176\n",
      "Epoch 41, CIFAR-10 Batch 3:  Loss: 0.3374492824077606, Accuracy: 0.6933997869491577\n",
      "Epoch 41, CIFAR-10 Batch 4:  Loss: 0.3736674189567566, Accuracy: 0.6975998878479004\n",
      "Epoch 41, CIFAR-10 Batch 5:  Loss: 0.44067323207855225, Accuracy: 0.6781998872756958\n",
      "Epoch 42, CIFAR-10 Batch 1:  Loss: 0.3799278438091278, Accuracy: 0.6939998865127563\n",
      "Epoch 42, CIFAR-10 Batch 2:  Loss: 0.397622674703598, Accuracy: 0.6827999353408813\n",
      "Epoch 42, CIFAR-10 Batch 3:  Loss: 0.30645543336868286, Accuracy: 0.6875998377799988\n",
      "Epoch 42, CIFAR-10 Batch 4:  Loss: 0.35114869475364685, Accuracy: 0.6961998343467712\n",
      "Epoch 42, CIFAR-10 Batch 5:  Loss: 0.406430721282959, Accuracy: 0.6843998432159424\n",
      "Epoch 43, CIFAR-10 Batch 1:  Loss: 0.3778754472732544, Accuracy: 0.6899999380111694\n",
      "Epoch 43, CIFAR-10 Batch 2:  Loss: 0.42885124683380127, Accuracy: 0.6481998562812805\n",
      "Epoch 43, CIFAR-10 Batch 3:  Loss: 0.32638803124427795, Accuracy: 0.6845998167991638\n",
      "Epoch 43, CIFAR-10 Batch 4:  Loss: 0.3504481613636017, Accuracy: 0.7009998559951782\n",
      "Epoch 43, CIFAR-10 Batch 5:  Loss: 0.4331634044647217, Accuracy: 0.6833997964859009\n",
      "Epoch 44, CIFAR-10 Batch 1:  Loss: 0.41504278779029846, Accuracy: 0.6939998865127563\n",
      "Epoch 44, CIFAR-10 Batch 2:  Loss: 0.3866192102432251, Accuracy: 0.6721998453140259\n",
      "Epoch 44, CIFAR-10 Batch 3:  Loss: 0.32365837693214417, Accuracy: 0.6967998743057251\n",
      "Epoch 44, CIFAR-10 Batch 4:  Loss: 0.3340063989162445, Accuracy: 0.6981998682022095\n",
      "Epoch 44, CIFAR-10 Batch 5:  Loss: 0.4164104461669922, Accuracy: 0.6973998546600342\n",
      "Epoch 45, CIFAR-10 Batch 1:  Loss: 0.35443827509880066, Accuracy: 0.6933999061584473\n",
      "Epoch 45, CIFAR-10 Batch 2:  Loss: 0.36090904474258423, Accuracy: 0.6967998743057251\n",
      "Epoch 45, CIFAR-10 Batch 3:  Loss: 0.28809279203414917, Accuracy: 0.6855999231338501\n",
      "Epoch 45, CIFAR-10 Batch 4:  Loss: 0.384247362613678, Accuracy: 0.6929998397827148\n",
      "Epoch 45, CIFAR-10 Batch 5:  Loss: 0.40452027320861816, Accuracy: 0.6873999238014221\n",
      "Epoch 46, CIFAR-10 Batch 1:  Loss: 0.36723750829696655, Accuracy: 0.6957998871803284\n",
      "Epoch 46, CIFAR-10 Batch 2:  Loss: 0.3489769697189331, Accuracy: 0.691199779510498\n",
      "Epoch 46, CIFAR-10 Batch 3:  Loss: 0.30500271916389465, Accuracy: 0.6829999089241028\n",
      "Epoch 46, CIFAR-10 Batch 4:  Loss: 0.3523625135421753, Accuracy: 0.6927998661994934\n",
      "Epoch 46, CIFAR-10 Batch 5:  Loss: 0.39378127455711365, Accuracy: 0.6893998384475708\n",
      "Epoch 47, CIFAR-10 Batch 1:  Loss: 0.34455955028533936, Accuracy: 0.6975998282432556\n",
      "Epoch 47, CIFAR-10 Batch 2:  Loss: 0.32951122522354126, Accuracy: 0.6857998967170715\n",
      "Epoch 47, CIFAR-10 Batch 3:  Loss: 0.30270472168922424, Accuracy: 0.6957998275756836\n",
      "Epoch 47, CIFAR-10 Batch 4:  Loss: 0.3250517249107361, Accuracy: 0.707399845123291\n",
      "Epoch 47, CIFAR-10 Batch 5:  Loss: 0.3673277497291565, Accuracy: 0.6965998411178589\n",
      "Epoch 48, CIFAR-10 Batch 1:  Loss: 0.37634795904159546, Accuracy: 0.6939998269081116\n",
      "Epoch 48, CIFAR-10 Batch 2:  Loss: 0.3505459129810333, Accuracy: 0.696199893951416\n",
      "Epoch 48, CIFAR-10 Batch 3:  Loss: 0.31254586577415466, Accuracy: 0.6887999176979065\n",
      "Epoch 48, CIFAR-10 Batch 4:  Loss: 0.36998251080513, Accuracy: 0.7021998167037964\n",
      "Epoch 48, CIFAR-10 Batch 5:  Loss: 0.378627747297287, Accuracy: 0.6827998161315918\n",
      "Epoch 49, CIFAR-10 Batch 1:  Loss: 0.37685874104499817, Accuracy: 0.7029998302459717\n",
      "Epoch 49, CIFAR-10 Batch 2:  Loss: 0.3381759524345398, Accuracy: 0.693199872970581\n",
      "Epoch 49, CIFAR-10 Batch 3:  Loss: 0.3030596971511841, Accuracy: 0.6827998757362366\n",
      "Epoch 49, CIFAR-10 Batch 4:  Loss: 0.3393782377243042, Accuracy: 0.7065998315811157\n",
      "Epoch 49, CIFAR-10 Batch 5:  Loss: 0.3189607858657837, Accuracy: 0.6933997869491577\n",
      "Epoch 50, CIFAR-10 Batch 1:  Loss: 0.3551938533782959, Accuracy: 0.6875998377799988\n",
      "Epoch 50, CIFAR-10 Batch 2:  Loss: 0.3240204453468323, Accuracy: 0.6929998993873596\n",
      "Epoch 50, CIFAR-10 Batch 3:  Loss: 0.30717602372169495, Accuracy: 0.6955998539924622\n",
      "Epoch 50, CIFAR-10 Batch 4:  Loss: 0.31298789381980896, Accuracy: 0.6973998546600342\n",
      "Epoch 50, CIFAR-10 Batch 5:  Loss: 0.3467106819152832, Accuracy: 0.6871998906135559\n",
      "Epoch 51, CIFAR-10 Batch 1:  Loss: 0.3564436733722687, Accuracy: 0.6927998065948486\n",
      "Epoch 51, CIFAR-10 Batch 2:  Loss: 0.3126235604286194, Accuracy: 0.6879998445510864\n",
      "Epoch 51, CIFAR-10 Batch 3:  Loss: 0.29667726159095764, Accuracy: 0.6975998878479004\n",
      "Epoch 51, CIFAR-10 Batch 4:  Loss: 0.3141050338745117, Accuracy: 0.7151998281478882\n",
      "Epoch 51, CIFAR-10 Batch 5:  Loss: 0.33186307549476624, Accuracy: 0.7095999121665955\n",
      "Epoch 52, CIFAR-10 Batch 1:  Loss: 0.35576146841049194, Accuracy: 0.6923998594284058\n",
      "Epoch 52, CIFAR-10 Batch 2:  Loss: 0.32645291090011597, Accuracy: 0.6923999190330505\n",
      "Epoch 52, CIFAR-10 Batch 3:  Loss: 0.25764477252960205, Accuracy: 0.6941999197006226\n",
      "Epoch 52, CIFAR-10 Batch 4:  Loss: 0.3456712067127228, Accuracy: 0.7053998708724976\n",
      "Epoch 52, CIFAR-10 Batch 5:  Loss: 0.3503795564174652, Accuracy: 0.684199869632721\n",
      "Epoch 53, CIFAR-10 Batch 1:  Loss: 0.3102310597896576, Accuracy: 0.7079998254776001\n",
      "Epoch 53, CIFAR-10 Batch 2:  Loss: 0.3208029568195343, Accuracy: 0.6929998993873596\n",
      "Epoch 53, CIFAR-10 Batch 3:  Loss: 0.2980640232563019, Accuracy: 0.6969998478889465\n",
      "Epoch 53, CIFAR-10 Batch 4:  Loss: 0.3236958682537079, Accuracy: 0.7065998911857605\n",
      "Epoch 53, CIFAR-10 Batch 5:  Loss: 0.35722777247428894, Accuracy: 0.6957998871803284\n",
      "Epoch 54, CIFAR-10 Batch 1:  Loss: 0.34245020151138306, Accuracy: 0.696199893951416\n",
      "Epoch 54, CIFAR-10 Batch 2:  Loss: 0.3450614809989929, Accuracy: 0.6901998519897461\n",
      "Epoch 54, CIFAR-10 Batch 3:  Loss: 0.348509818315506, Accuracy: 0.6857998967170715\n",
      "Epoch 54, CIFAR-10 Batch 4:  Loss: 0.3208352029323578, Accuracy: 0.7047998905181885\n",
      "Epoch 54, CIFAR-10 Batch 5:  Loss: 0.3330117464065552, Accuracy: 0.7003998756408691\n",
      "Epoch 55, CIFAR-10 Batch 1:  Loss: 0.30733734369277954, Accuracy: 0.7147998809814453\n",
      "Epoch 55, CIFAR-10 Batch 2:  Loss: 0.3162401020526886, Accuracy: 0.6929998397827148\n",
      "Epoch 55, CIFAR-10 Batch 3:  Loss: 0.30680251121520996, Accuracy: 0.6923998594284058\n",
      "Epoch 55, CIFAR-10 Batch 4:  Loss: 0.3218849301338196, Accuracy: 0.7055997848510742\n",
      "Epoch 55, CIFAR-10 Batch 5:  Loss: 0.42656978964805603, Accuracy: 0.6855998635292053\n",
      "Epoch 56, CIFAR-10 Batch 1:  Loss: 0.336807519197464, Accuracy: 0.7089998722076416\n",
      "Epoch 56, CIFAR-10 Batch 2:  Loss: 0.29720038175582886, Accuracy: 0.7015998363494873\n",
      "Epoch 56, CIFAR-10 Batch 3:  Loss: 0.2695830464363098, Accuracy: 0.7041999101638794\n",
      "Epoch 56, CIFAR-10 Batch 4:  Loss: 0.2988571524620056, Accuracy: 0.7121999263763428\n",
      "Epoch 56, CIFAR-10 Batch 5:  Loss: 0.3610598146915436, Accuracy: 0.7001997828483582\n",
      "Epoch 57, CIFAR-10 Batch 1:  Loss: 0.30402758717536926, Accuracy: 0.7127998471260071\n",
      "Epoch 57, CIFAR-10 Batch 2:  Loss: 0.3200618028640747, Accuracy: 0.6911998987197876\n",
      "Epoch 57, CIFAR-10 Batch 3:  Loss: 0.28354692459106445, Accuracy: 0.7009998559951782\n",
      "Epoch 57, CIFAR-10 Batch 4:  Loss: 0.31499773263931274, Accuracy: 0.7051998376846313\n",
      "Epoch 57, CIFAR-10 Batch 5:  Loss: 0.3120146095752716, Accuracy: 0.7057998776435852\n",
      "Epoch 58, CIFAR-10 Batch 1:  Loss: 0.3402785360813141, Accuracy: 0.7019997835159302\n",
      "Epoch 58, CIFAR-10 Batch 2:  Loss: 0.31355762481689453, Accuracy: 0.6993998289108276\n",
      "Epoch 58, CIFAR-10 Batch 3:  Loss: 0.3035661578178406, Accuracy: 0.7047998309135437\n",
      "Epoch 58, CIFAR-10 Batch 4:  Loss: 0.3047630786895752, Accuracy: 0.7075998783111572\n",
      "Epoch 58, CIFAR-10 Batch 5:  Loss: 0.355116605758667, Accuracy: 0.6913998126983643\n",
      "Epoch 59, CIFAR-10 Batch 1:  Loss: 0.3127225339412689, Accuracy: 0.7083998322486877\n",
      "Epoch 59, CIFAR-10 Batch 2:  Loss: 0.3148515820503235, Accuracy: 0.6919997930526733\n",
      "Epoch 59, CIFAR-10 Batch 3:  Loss: 0.27838295698165894, Accuracy: 0.7047998309135437\n",
      "Epoch 59, CIFAR-10 Batch 4:  Loss: 0.2911534011363983, Accuracy: 0.7161998748779297\n",
      "Epoch 59, CIFAR-10 Batch 5:  Loss: 0.29771101474761963, Accuracy: 0.7035998702049255\n",
      "Epoch 60, CIFAR-10 Batch 1:  Loss: 0.32354220747947693, Accuracy: 0.7123997807502747\n",
      "Epoch 60, CIFAR-10 Batch 2:  Loss: 0.31087344884872437, Accuracy: 0.7041998505592346\n",
      "Epoch 60, CIFAR-10 Batch 3:  Loss: 0.2903255224227905, Accuracy: 0.694399893283844\n",
      "Epoch 60, CIFAR-10 Batch 4:  Loss: 0.29503124952316284, Accuracy: 0.7085999250411987\n",
      "Epoch 60, CIFAR-10 Batch 5:  Loss: 0.31761670112609863, Accuracy: 0.7109998464584351\n",
      "Epoch 61, CIFAR-10 Batch 1:  Loss: 0.32693344354629517, Accuracy: 0.710199773311615\n",
      "Epoch 61, CIFAR-10 Batch 2:  Loss: 0.31734007596969604, Accuracy: 0.6967999339103699\n",
      "Epoch 61, CIFAR-10 Batch 3:  Loss: 0.2630920708179474, Accuracy: 0.7017998695373535\n",
      "Epoch 61, CIFAR-10 Batch 4:  Loss: 0.28862234950065613, Accuracy: 0.7069998383522034\n",
      "Epoch 61, CIFAR-10 Batch 5:  Loss: 0.29774633049964905, Accuracy: 0.7161998152732849\n",
      "Epoch 62, CIFAR-10 Batch 1:  Loss: 0.3028850853443146, Accuracy: 0.716999888420105\n",
      "Epoch 62, CIFAR-10 Batch 2:  Loss: 0.2859024703502655, Accuracy: 0.7105998992919922\n",
      "Epoch 62, CIFAR-10 Batch 3:  Loss: 0.2899746000766754, Accuracy: 0.7067998647689819\n",
      "Epoch 62, CIFAR-10 Batch 4:  Loss: 0.31103047728538513, Accuracy: 0.7091997861862183\n",
      "Epoch 62, CIFAR-10 Batch 5:  Loss: 0.3380463421344757, Accuracy: 0.7083998322486877\n",
      "Epoch 63, CIFAR-10 Batch 1:  Loss: 0.3045341670513153, Accuracy: 0.7169998288154602\n",
      "Epoch 63, CIFAR-10 Batch 2:  Loss: 0.31473714113235474, Accuracy: 0.7089998722076416\n",
      "Epoch 63, CIFAR-10 Batch 3:  Loss: 0.28625354170799255, Accuracy: 0.715199887752533\n",
      "Epoch 63, CIFAR-10 Batch 4:  Loss: 0.2798094153404236, Accuracy: 0.7173998355865479\n",
      "Epoch 63, CIFAR-10 Batch 5:  Loss: 0.2963044047355652, Accuracy: 0.7105998992919922\n",
      "Epoch 64, CIFAR-10 Batch 1:  Loss: 0.2966598570346832, Accuracy: 0.7127997875213623\n",
      "Epoch 64, CIFAR-10 Batch 2:  Loss: 0.31432563066482544, Accuracy: 0.7129998207092285\n",
      "Epoch 64, CIFAR-10 Batch 3:  Loss: 0.3135156035423279, Accuracy: 0.6949998736381531\n",
      "Epoch 64, CIFAR-10 Batch 4:  Loss: 0.2867019772529602, Accuracy: 0.7125998139381409\n",
      "Epoch 64, CIFAR-10 Batch 5:  Loss: 0.3193824589252472, Accuracy: 0.7015998959541321\n",
      "Epoch 65, CIFAR-10 Batch 1:  Loss: 0.31218862533569336, Accuracy: 0.7117998600006104\n",
      "Epoch 65, CIFAR-10 Batch 2:  Loss: 0.3080543279647827, Accuracy: 0.7105998396873474\n",
      "Epoch 65, CIFAR-10 Batch 3:  Loss: 0.2725728154182434, Accuracy: 0.6999998688697815\n",
      "Epoch 65, CIFAR-10 Batch 4:  Loss: 0.294408917427063, Accuracy: 0.7135998606681824\n",
      "Epoch 65, CIFAR-10 Batch 5:  Loss: 0.3752036392688751, Accuracy: 0.6903998851776123\n",
      "Epoch 66, CIFAR-10 Batch 1:  Loss: 0.2804797887802124, Accuracy: 0.7215998768806458\n",
      "Epoch 66, CIFAR-10 Batch 2:  Loss: 0.28464967012405396, Accuracy: 0.6977999210357666\n",
      "Epoch 66, CIFAR-10 Batch 3:  Loss: 0.30297985672950745, Accuracy: 0.7015998959541321\n",
      "Epoch 66, CIFAR-10 Batch 4:  Loss: 0.2683643400669098, Accuracy: 0.7261998057365417\n",
      "Epoch 66, CIFAR-10 Batch 5:  Loss: 0.3104785680770874, Accuracy: 0.7085999250411987\n",
      "Epoch 67, CIFAR-10 Batch 1:  Loss: 0.3105620741844177, Accuracy: 0.7127999067306519\n",
      "Epoch 67, CIFAR-10 Batch 2:  Loss: 0.2857181131839752, Accuracy: 0.7091999053955078\n",
      "Epoch 67, CIFAR-10 Batch 3:  Loss: 0.26534679532051086, Accuracy: 0.7123998403549194\n",
      "Epoch 67, CIFAR-10 Batch 4:  Loss: 0.23905900120735168, Accuracy: 0.7185998558998108\n",
      "Epoch 67, CIFAR-10 Batch 5:  Loss: 0.2865961790084839, Accuracy: 0.7067999243736267\n",
      "Epoch 68, CIFAR-10 Batch 1:  Loss: 0.27867835760116577, Accuracy: 0.7059997916221619\n",
      "Epoch 68, CIFAR-10 Batch 2:  Loss: 0.2832261025905609, Accuracy: 0.7109999060630798\n",
      "Epoch 68, CIFAR-10 Batch 3:  Loss: 0.3028981387615204, Accuracy: 0.6987998485565186\n",
      "Epoch 68, CIFAR-10 Batch 4:  Loss: 0.25793784856796265, Accuracy: 0.7143998742103577\n",
      "Epoch 68, CIFAR-10 Batch 5:  Loss: 0.30354413390159607, Accuracy: 0.7131998538970947\n",
      "Epoch 69, CIFAR-10 Batch 1:  Loss: 0.250700443983078, Accuracy: 0.7187998294830322\n",
      "Epoch 69, CIFAR-10 Batch 2:  Loss: 0.3207279145717621, Accuracy: 0.700999915599823\n",
      "Epoch 69, CIFAR-10 Batch 3:  Loss: 0.28568294644355774, Accuracy: 0.7053998708724976\n",
      "Epoch 69, CIFAR-10 Batch 4:  Loss: 0.26830506324768066, Accuracy: 0.7191998958587646\n",
      "Epoch 69, CIFAR-10 Batch 5:  Loss: 0.3182794153690338, Accuracy: 0.7081997990608215\n",
      "Epoch 70, CIFAR-10 Batch 1:  Loss: 0.27399107813835144, Accuracy: 0.7123998403549194\n",
      "Epoch 70, CIFAR-10 Batch 2:  Loss: 0.28637731075286865, Accuracy: 0.7005998492240906\n",
      "Epoch 70, CIFAR-10 Batch 3:  Loss: 0.2605089545249939, Accuracy: 0.6949998140335083\n",
      "Epoch 70, CIFAR-10 Batch 4:  Loss: 0.25267502665519714, Accuracy: 0.7119998335838318\n",
      "Epoch 70, CIFAR-10 Batch 5:  Loss: 0.28694432973861694, Accuracy: 0.7131999135017395\n",
      "Epoch 71, CIFAR-10 Batch 1:  Loss: 0.26496556401252747, Accuracy: 0.7125998735427856\n",
      "Epoch 71, CIFAR-10 Batch 2:  Loss: 0.32470959424972534, Accuracy: 0.7191998362541199\n",
      "Epoch 71, CIFAR-10 Batch 3:  Loss: 0.24914517998695374, Accuracy: 0.7081998586654663\n",
      "Epoch 71, CIFAR-10 Batch 4:  Loss: 0.2351519912481308, Accuracy: 0.7161998748779297\n",
      "Epoch 71, CIFAR-10 Batch 5:  Loss: 0.3159337639808655, Accuracy: 0.7157998085021973\n",
      "Epoch 72, CIFAR-10 Batch 1:  Loss: 0.2805485725402832, Accuracy: 0.7155998349189758\n",
      "Epoch 72, CIFAR-10 Batch 2:  Loss: 0.2860396206378937, Accuracy: 0.7041998505592346\n",
      "Epoch 72, CIFAR-10 Batch 3:  Loss: 0.2795255780220032, Accuracy: 0.7065998315811157\n",
      "Epoch 72, CIFAR-10 Batch 4:  Loss: 0.21163898706436157, Accuracy: 0.7193998694419861\n",
      "Epoch 72, CIFAR-10 Batch 5:  Loss: 0.27076250314712524, Accuracy: 0.7147998809814453\n",
      "Epoch 73, CIFAR-10 Batch 1:  Loss: 0.2769944667816162, Accuracy: 0.7181998491287231\n",
      "Epoch 73, CIFAR-10 Batch 2:  Loss: 0.2911472022533417, Accuracy: 0.6967998743057251\n",
      "Epoch 73, CIFAR-10 Batch 3:  Loss: 0.2941209375858307, Accuracy: 0.7061998844146729\n",
      "Epoch 73, CIFAR-10 Batch 4:  Loss: 0.29560235142707825, Accuracy: 0.7119998931884766\n",
      "Epoch 73, CIFAR-10 Batch 5:  Loss: 0.3203980326652527, Accuracy: 0.7117998600006104\n",
      "Epoch 74, CIFAR-10 Batch 1:  Loss: 0.2684694230556488, Accuracy: 0.7113998532295227\n",
      "Epoch 74, CIFAR-10 Batch 2:  Loss: 0.2914975881576538, Accuracy: 0.7051998972892761\n",
      "Epoch 74, CIFAR-10 Batch 3:  Loss: 0.28920140862464905, Accuracy: 0.7069998383522034\n",
      "Epoch 74, CIFAR-10 Batch 4:  Loss: 0.29235759377479553, Accuracy: 0.7259998917579651\n",
      "Epoch 74, CIFAR-10 Batch 5:  Loss: 0.26076412200927734, Accuracy: 0.7179998755455017\n",
      "Epoch 75, CIFAR-10 Batch 1:  Loss: 0.287121057510376, Accuracy: 0.7173998951911926\n",
      "Epoch 75, CIFAR-10 Batch 2:  Loss: 0.28080055117607117, Accuracy: 0.7017998695373535\n",
      "Epoch 75, CIFAR-10 Batch 3:  Loss: 0.2626521587371826, Accuracy: 0.7033998966217041\n",
      "Epoch 75, CIFAR-10 Batch 4:  Loss: 0.2875875234603882, Accuracy: 0.7161998748779297\n",
      "Epoch 75, CIFAR-10 Batch 5:  Loss: 0.26800981163978577, Accuracy: 0.7109999060630798\n",
      "Epoch 76, CIFAR-10 Batch 1:  Loss: 0.22943055629730225, Accuracy: 0.7243998646736145\n",
      "Epoch 76, CIFAR-10 Batch 2:  Loss: 0.29528698325157166, Accuracy: 0.7079998254776001\n",
      "Epoch 76, CIFAR-10 Batch 3:  Loss: 0.2257416546344757, Accuracy: 0.7075998187065125\n",
      "Epoch 76, CIFAR-10 Batch 4:  Loss: 0.2787623405456543, Accuracy: 0.7207998633384705\n",
      "Epoch 76, CIFAR-10 Batch 5:  Loss: 0.2719058096408844, Accuracy: 0.7125998735427856\n",
      "Epoch 77, CIFAR-10 Batch 1:  Loss: 0.2753024697303772, Accuracy: 0.7135999202728271\n",
      "Epoch 77, CIFAR-10 Batch 2:  Loss: 0.28542613983154297, Accuracy: 0.7115998864173889\n",
      "Epoch 77, CIFAR-10 Batch 3:  Loss: 0.2669633626937866, Accuracy: 0.7051998972892761\n",
      "Epoch 77, CIFAR-10 Batch 4:  Loss: 0.24425318837165833, Accuracy: 0.7171998023986816\n",
      "Epoch 77, CIFAR-10 Batch 5:  Loss: 0.278657466173172, Accuracy: 0.721599817276001\n",
      "Epoch 78, CIFAR-10 Batch 1:  Loss: 0.2635842561721802, Accuracy: 0.7169998288154602\n",
      "Epoch 78, CIFAR-10 Batch 2:  Loss: 0.29833629727363586, Accuracy: 0.7155998945236206\n",
      "Epoch 78, CIFAR-10 Batch 3:  Loss: 0.2689312994480133, Accuracy: 0.7079998850822449\n",
      "Epoch 78, CIFAR-10 Batch 4:  Loss: 0.2714588940143585, Accuracy: 0.7131998538970947\n",
      "Epoch 78, CIFAR-10 Batch 5:  Loss: 0.25482094287872314, Accuracy: 0.7147998809814453\n",
      "Epoch 79, CIFAR-10 Batch 1:  Loss: 0.27822190523147583, Accuracy: 0.7213998436927795\n",
      "Epoch 79, CIFAR-10 Batch 2:  Loss: 0.26264727115631104, Accuracy: 0.7147998213768005\n",
      "Epoch 79, CIFAR-10 Batch 3:  Loss: 0.2497968077659607, Accuracy: 0.7077999114990234\n",
      "Epoch 79, CIFAR-10 Batch 4:  Loss: 0.2475537806749344, Accuracy: 0.7207999229431152\n",
      "Epoch 79, CIFAR-10 Batch 5:  Loss: 0.27894508838653564, Accuracy: 0.7107998728752136\n",
      "Epoch 80, CIFAR-10 Batch 1:  Loss: 0.2915666699409485, Accuracy: 0.7273998260498047\n",
      "Epoch 80, CIFAR-10 Batch 2:  Loss: 0.2657502591609955, Accuracy: 0.7295998334884644\n",
      "Epoch 80, CIFAR-10 Batch 3:  Loss: 0.2546865940093994, Accuracy: 0.7065998315811157\n",
      "Epoch 80, CIFAR-10 Batch 4:  Loss: 0.23514780402183533, Accuracy: 0.7219998836517334\n",
      "Epoch 80, CIFAR-10 Batch 5:  Loss: 0.28281211853027344, Accuracy: 0.7107998132705688\n",
      "Epoch 81, CIFAR-10 Batch 1:  Loss: 0.25311267375946045, Accuracy: 0.7219998836517334\n",
      "Epoch 81, CIFAR-10 Batch 2:  Loss: 0.30983859300613403, Accuracy: 0.7003998756408691\n",
      "Epoch 81, CIFAR-10 Batch 3:  Loss: 0.2611517310142517, Accuracy: 0.7231998443603516\n",
      "Epoch 81, CIFAR-10 Batch 4:  Loss: 0.2664951980113983, Accuracy: 0.7155998349189758\n",
      "Epoch 81, CIFAR-10 Batch 5:  Loss: 0.26195138692855835, Accuracy: 0.7217998504638672\n",
      "Epoch 82, CIFAR-10 Batch 1:  Loss: 0.24758410453796387, Accuracy: 0.7225998640060425\n",
      "Epoch 82, CIFAR-10 Batch 2:  Loss: 0.2775144577026367, Accuracy: 0.715799868106842\n",
      "Epoch 82, CIFAR-10 Batch 3:  Loss: 0.27064403891563416, Accuracy: 0.7107998132705688\n",
      "Epoch 82, CIFAR-10 Batch 4:  Loss: 0.24277186393737793, Accuracy: 0.7105998992919922\n",
      "Epoch 82, CIFAR-10 Batch 5:  Loss: 0.24193935096263885, Accuracy: 0.7177999019622803\n",
      "Epoch 83, CIFAR-10 Batch 1:  Loss: 0.23922933638095856, Accuracy: 0.7201998829841614\n",
      "Epoch 83, CIFAR-10 Batch 2:  Loss: 0.2727111876010895, Accuracy: 0.7093998193740845\n",
      "Epoch 83, CIFAR-10 Batch 3:  Loss: 0.2478434145450592, Accuracy: 0.7185998558998108\n",
      "Epoch 83, CIFAR-10 Batch 4:  Loss: 0.25509652495384216, Accuracy: 0.7229998707771301\n",
      "Epoch 83, CIFAR-10 Batch 5:  Loss: 0.26927411556243896, Accuracy: 0.7177998423576355\n",
      "Epoch 84, CIFAR-10 Batch 1:  Loss: 0.24749106168746948, Accuracy: 0.7189998030662537\n",
      "Epoch 84, CIFAR-10 Batch 2:  Loss: 0.24733081459999084, Accuracy: 0.7249998450279236\n",
      "Epoch 84, CIFAR-10 Batch 3:  Loss: 0.24739199876785278, Accuracy: 0.7187998294830322\n",
      "Epoch 84, CIFAR-10 Batch 4:  Loss: 0.23608210682868958, Accuracy: 0.7211999297142029\n",
      "Epoch 84, CIFAR-10 Batch 5:  Loss: 0.26537102460861206, Accuracy: 0.7189998626708984\n",
      "Epoch 85, CIFAR-10 Batch 1:  Loss: 0.2604055106639862, Accuracy: 0.7295998334884644\n",
      "Epoch 85, CIFAR-10 Batch 2:  Loss: 0.25532805919647217, Accuracy: 0.7139998078346252\n",
      "Epoch 85, CIFAR-10 Batch 3:  Loss: 0.2526034414768219, Accuracy: 0.7051998376846313\n",
      "Epoch 85, CIFAR-10 Batch 4:  Loss: 0.23602767288684845, Accuracy: 0.7109998464584351\n",
      "Epoch 85, CIFAR-10 Batch 5:  Loss: 0.25585904717445374, Accuracy: 0.7151998281478882\n",
      "Epoch 86, CIFAR-10 Batch 1:  Loss: 0.2617795467376709, Accuracy: 0.720599889755249\n",
      "Epoch 86, CIFAR-10 Batch 2:  Loss: 0.28031766414642334, Accuracy: 0.7209998369216919\n",
      "Epoch 86, CIFAR-10 Batch 3:  Loss: 0.27182286977767944, Accuracy: 0.7125998735427856\n",
      "Epoch 86, CIFAR-10 Batch 4:  Loss: 0.23453103005886078, Accuracy: 0.7179998159408569\n",
      "Epoch 86, CIFAR-10 Batch 5:  Loss: 0.28775766491889954, Accuracy: 0.7185998558998108\n",
      "Epoch 87, CIFAR-10 Batch 1:  Loss: 0.24488161504268646, Accuracy: 0.7287998795509338\n",
      "Epoch 87, CIFAR-10 Batch 2:  Loss: 0.24799907207489014, Accuracy: 0.7097998857498169\n",
      "Epoch 87, CIFAR-10 Batch 3:  Loss: 0.2348775863647461, Accuracy: 0.7045998573303223\n",
      "Epoch 87, CIFAR-10 Batch 4:  Loss: 0.2508288621902466, Accuracy: 0.7087998390197754\n",
      "Epoch 87, CIFAR-10 Batch 5:  Loss: 0.2712819576263428, Accuracy: 0.6991997957229614\n",
      "Epoch 88, CIFAR-10 Batch 1:  Loss: 0.23355625569820404, Accuracy: 0.7151998281478882\n",
      "Epoch 88, CIFAR-10 Batch 2:  Loss: 0.29873475432395935, Accuracy: 0.7131998538970947\n",
      "Epoch 88, CIFAR-10 Batch 3:  Loss: 0.25391215085983276, Accuracy: 0.71399986743927\n",
      "Epoch 88, CIFAR-10 Batch 4:  Loss: 0.2135738730430603, Accuracy: 0.7255998849868774\n",
      "Epoch 88, CIFAR-10 Batch 5:  Loss: 0.22980889678001404, Accuracy: 0.7145998477935791\n",
      "Epoch 89, CIFAR-10 Batch 1:  Loss: 0.2721894383430481, Accuracy: 0.7197997570037842\n",
      "Epoch 89, CIFAR-10 Batch 2:  Loss: 0.274209201335907, Accuracy: 0.7209998369216919\n",
      "Epoch 89, CIFAR-10 Batch 3:  Loss: 0.2405296117067337, Accuracy: 0.7081998586654663\n",
      "Epoch 89, CIFAR-10 Batch 4:  Loss: 0.21908962726593018, Accuracy: 0.710399866104126\n",
      "Epoch 89, CIFAR-10 Batch 5:  Loss: 0.21780456602573395, Accuracy: 0.7171998023986816\n",
      "Epoch 90, CIFAR-10 Batch 1:  Loss: 0.25224819779396057, Accuracy: 0.7221997976303101\n",
      "Epoch 90, CIFAR-10 Batch 2:  Loss: 0.2551426291465759, Accuracy: 0.7145998477935791\n",
      "Epoch 90, CIFAR-10 Batch 3:  Loss: 0.2601686716079712, Accuracy: 0.7097998261451721\n",
      "Epoch 90, CIFAR-10 Batch 4:  Loss: 0.2163858264684677, Accuracy: 0.7191998958587646\n",
      "Epoch 90, CIFAR-10 Batch 5:  Loss: 0.26485925912857056, Accuracy: 0.7209998369216919\n",
      "Epoch 91, CIFAR-10 Batch 1:  Loss: 0.2660793662071228, Accuracy: 0.7209998369216919\n",
      "Epoch 91, CIFAR-10 Batch 2:  Loss: 0.26216211915016174, Accuracy: 0.7187998294830322\n",
      "Epoch 91, CIFAR-10 Batch 3:  Loss: 0.24987125396728516, Accuracy: 0.7167998552322388\n",
      "Epoch 91, CIFAR-10 Batch 4:  Loss: 0.22214026749134064, Accuracy: 0.7221998572349548\n",
      "Epoch 91, CIFAR-10 Batch 5:  Loss: 0.2139684110879898, Accuracy: 0.7195998430252075\n",
      "Epoch 92, CIFAR-10 Batch 1:  Loss: 0.20274727046489716, Accuracy: 0.72819983959198\n",
      "Epoch 92, CIFAR-10 Batch 2:  Loss: 0.2461548149585724, Accuracy: 0.7235997915267944\n",
      "Epoch 92, CIFAR-10 Batch 3:  Loss: 0.2335820198059082, Accuracy: 0.7169998288154602\n",
      "Epoch 92, CIFAR-10 Batch 4:  Loss: 0.2429361343383789, Accuracy: 0.7325998544692993\n",
      "Epoch 92, CIFAR-10 Batch 5:  Loss: 0.24074533581733704, Accuracy: 0.7173998951911926\n",
      "Epoch 93, CIFAR-10 Batch 1:  Loss: 0.2271326780319214, Accuracy: 0.7233998775482178\n",
      "Epoch 93, CIFAR-10 Batch 2:  Loss: 0.2638518512248993, Accuracy: 0.725199818611145\n",
      "Epoch 93, CIFAR-10 Batch 3:  Loss: 0.2435241937637329, Accuracy: 0.7237998843193054\n",
      "Epoch 93, CIFAR-10 Batch 4:  Loss: 0.24307401478290558, Accuracy: 0.7353998422622681\n",
      "Epoch 93, CIFAR-10 Batch 5:  Loss: 0.22374485433101654, Accuracy: 0.7223999500274658\n",
      "Epoch 94, CIFAR-10 Batch 1:  Loss: 0.21606317162513733, Accuracy: 0.7267998456954956\n",
      "Epoch 94, CIFAR-10 Batch 2:  Loss: 0.2890002727508545, Accuracy: 0.718799889087677\n",
      "Epoch 94, CIFAR-10 Batch 3:  Loss: 0.24294990301132202, Accuracy: 0.7163998484611511\n",
      "Epoch 94, CIFAR-10 Batch 4:  Loss: 0.2532469630241394, Accuracy: 0.7235998511314392\n",
      "Epoch 94, CIFAR-10 Batch 5:  Loss: 0.24485886096954346, Accuracy: 0.7153998613357544\n",
      "Epoch 95, CIFAR-10 Batch 1:  Loss: 0.26603972911834717, Accuracy: 0.7213999032974243\n",
      "Epoch 95, CIFAR-10 Batch 2:  Loss: 0.25533759593963623, Accuracy: 0.719799816608429\n",
      "Epoch 95, CIFAR-10 Batch 3:  Loss: 0.2511562705039978, Accuracy: 0.7201998233795166\n",
      "Epoch 95, CIFAR-10 Batch 4:  Loss: 0.21911171078681946, Accuracy: 0.7211998105049133\n",
      "Epoch 95, CIFAR-10 Batch 5:  Loss: 0.22392788529396057, Accuracy: 0.718799889087677\n",
      "Epoch 96, CIFAR-10 Batch 1:  Loss: 0.21817398071289062, Accuracy: 0.7283998131752014\n",
      "Epoch 96, CIFAR-10 Batch 2:  Loss: 0.2592400312423706, Accuracy: 0.7221998572349548\n",
      "Epoch 96, CIFAR-10 Batch 3:  Loss: 0.28520554304122925, Accuracy: 0.6989998817443848\n",
      "Epoch 96, CIFAR-10 Batch 4:  Loss: 0.2330077886581421, Accuracy: 0.7289997935295105\n",
      "Epoch 96, CIFAR-10 Batch 5:  Loss: 0.2199183702468872, Accuracy: 0.7261998057365417\n",
      "Epoch 97, CIFAR-10 Batch 1:  Loss: 0.21325279772281647, Accuracy: 0.7309998273849487\n",
      "Epoch 97, CIFAR-10 Batch 2:  Loss: 0.2550642192363739, Accuracy: 0.7259998321533203\n",
      "Epoch 97, CIFAR-10 Batch 3:  Loss: 0.22500209510326385, Accuracy: 0.7263997793197632\n",
      "Epoch 97, CIFAR-10 Batch 4:  Loss: 0.21778124570846558, Accuracy: 0.7169998288154602\n",
      "Epoch 97, CIFAR-10 Batch 5:  Loss: 0.2138153612613678, Accuracy: 0.7167998552322388\n",
      "Epoch 98, CIFAR-10 Batch 1:  Loss: 0.2162969410419464, Accuracy: 0.7251998782157898\n",
      "Epoch 98, CIFAR-10 Batch 2:  Loss: 0.2398194968700409, Accuracy: 0.7231998443603516\n",
      "Epoch 98, CIFAR-10 Batch 3:  Loss: 0.2276564985513687, Accuracy: 0.726999819278717\n",
      "Epoch 98, CIFAR-10 Batch 4:  Loss: 0.20730581879615784, Accuracy: 0.7327998280525208\n",
      "Epoch 98, CIFAR-10 Batch 5:  Loss: 0.21420690417289734, Accuracy: 0.7269997596740723\n",
      "Epoch 99, CIFAR-10 Batch 1:  Loss: 0.18713079392910004, Accuracy: 0.7225999236106873\n",
      "Epoch 99, CIFAR-10 Batch 2:  Loss: 0.24627400934696198, Accuracy: 0.7279998064041138\n",
      "Epoch 99, CIFAR-10 Batch 3:  Loss: 0.2655165195465088, Accuracy: 0.7267997860908508\n",
      "Epoch 99, CIFAR-10 Batch 4:  Loss: 0.25189563632011414, Accuracy: 0.7257998585700989\n",
      "Epoch 99, CIFAR-10 Batch 5:  Loss: 0.23017093539237976, Accuracy: 0.7079998850822449\n",
      "Epoch 100, CIFAR-10 Batch 1:  Loss: 0.20414650440216064, Accuracy: 0.7311998009681702\n",
      "Epoch 100, CIFAR-10 Batch 2:  Loss: 0.23657982051372528, Accuracy: 0.7159998416900635\n",
      "Epoch 100, CIFAR-10 Batch 3:  Loss: 0.24515655636787415, Accuracy: 0.7255998849868774\n",
      "Epoch 100, CIFAR-10 Batch 4:  Loss: 0.24159976840019226, Accuracy: 0.7249999046325684\n",
      "Epoch 100, CIFAR-10 Batch 5:  Loss: 0.22932657599449158, Accuracy: 0.7159998416900635\n"
     ]
    }
   ],
   "source": [
    "\"\"\"\n",
    "DON'T MODIFY ANYTHING IN THIS CELL\n",
    "\"\"\"\n",
    "save_model_path = './image_classification'\n",
    "\n",
    "print('Training...')\n",
    "with tf.Session() as sess:\n",
    "    # Initializing the variables\n",
    "    sess.run(tf.global_variables_initializer())\n",
    "    \n",
    "    # Training cycle\n",
    "    for epoch in range(epochs):\n",
    "        # Loop over all batches\n",
    "        n_batches = 5\n",
    "        for batch_i in range(1, n_batches + 1):\n",
    "            for batch_features, batch_labels in helper.load_preprocess_training_batch(batch_i, batch_size):\n",
    "                train_neural_network(sess, optimizer, keep_probability, batch_features, batch_labels)\n",
    "            print('Epoch {:>2}, CIFAR-10 Batch {}:  '.format(epoch + 1, batch_i), end='')\n",
    "            print_stats(sess, batch_features, batch_labels, cost, accuracy)\n",
    "            \n",
    "    # Save Model\n",
    "    saver = tf.train.Saver()\n",
    "    save_path = saver.save(sess, save_model_path)"
   ]
  },
  {
   "cell_type": "markdown",
   "metadata": {
    "deletable": true,
    "editable": true
   },
   "source": [
    "# Checkpoint\n",
    "The model has been saved to disk.\n",
    "## Test Model\n",
    "Test your model against the test dataset.  This will be your final accuracy. You should have an accuracy greater than 50%. If you don't, keep tweaking the model architecture and parameters."
   ]
  },
  {
   "cell_type": "code",
   "execution_count": 25,
   "metadata": {
    "collapsed": false,
    "deletable": true,
    "editable": true
   },
   "outputs": [
    {
     "name": "stdout",
     "output_type": "stream",
     "text": [
      "Testing Accuracy: 0.70185546875\n",
      "\n"
     ]
    },
    {
     "data": {
      "image/png": "[encoded data removed]",
      "text/plain": [
       "<matplotlib.figure.Figure at 0x7f099b6fae48>"
      ]
     },
     "metadata": {
      "image/png": {
       "height": 319,
       "width": 355
      }
     },
     "output_type": "display_data"
    }
   ],
   "source": [
    "\"\"\"\n",
    "DON'T MODIFY ANYTHING IN THIS CELL\n",
    "\"\"\"\n",
    "%matplotlib inline\n",
    "%config InlineBackend.figure_format = 'retina'\n",
    "\n",
    "import tensorflow as tf\n",
    "import pickle\n",
    "import helper\n",
    "import random\n",
    "\n",
    "# Set batch size if not already set\n",
    "try:\n",
    "    if batch_size:\n",
    "        pass\n",
    "except NameError:\n",
    "    batch_size = 64\n",
    "\n",
    "save_model_path = './image_classification'\n",
    "n_samples = 4\n",
    "top_n_predictions = 3\n",
    "\n",
    "def test_model():\n",
    "    \"\"\"\n",
    "    Test the saved model against the test dataset\n",
    "    \"\"\"\n",
    "\n",
    "    test_features, test_labels = pickle.load(open('preprocess_training.p', mode='rb'))\n",
    "    loaded_graph = tf.Graph()\n",
    "\n",
    "    with tf.Session(graph=loaded_graph) as sess:\n",
    "        # Load model\n",
    "        loader = tf.train.import_meta_graph(save_model_path + '.meta')\n",
    "        loader.restore(sess, save_model_path)\n",
    "\n",
    "        # Get Tensors from loaded model\n",
    "        loaded_x = loaded_graph.get_tensor_by_name('x:0')\n",
    "        loaded_y = loaded_graph.get_tensor_by_name('y:0')\n",
    "        loaded_keep_prob = loaded_graph.get_tensor_by_name('keep_prob:0')\n",
    "        loaded_logits = loaded_graph.get_tensor_by_name('logits:0')\n",
    "        loaded_acc = loaded_graph.get_tensor_by_name('accuracy:0')\n",
    "        \n",
    "        # Get accuracy in batches for memory limitations\n",
    "        test_batch_acc_total = 0\n",
    "        test_batch_count = 0\n",
    "        \n",
    "        for train_feature_batch, train_label_batch in helper.batch_features_labels(test_features, test_labels, batch_size):\n",
    "            test_batch_acc_total += sess.run(\n",
    "                loaded_acc,\n",
    "                feed_dict={loaded_x: train_feature_batch, loaded_y: train_label_batch, loaded_keep_prob: 1.0})\n",
    "            test_batch_count += 1\n",
    "\n",
    "        print('Testing Accuracy: {}\\n'.format(test_batch_acc_total/test_batch_count))\n",
    "\n",
    "        # Print Random Samples\n",
    "        random_test_features, random_test_labels = tuple(zip(*random.sample(list(zip(test_features, test_labels)), n_samples)))\n",
    "        random_test_predictions = sess.run(\n",
    "            tf.nn.top_k(tf.nn.softmax(loaded_logits), top_n_predictions),\n",
    "            feed_dict={loaded_x: random_test_features, loaded_y: random_test_labels, loaded_keep_prob: 1.0})\n",
    "        helper.display_image_predictions(random_test_features, random_test_labels, random_test_predictions)\n",
    "\n",
    "\n",
    "test_model()"
   ]
  },
  {
   "cell_type": "markdown",
   "metadata": {
    "deletable": true,
    "editable": true
   },
   "source": [
    "## Why 50-80% Accuracy?\n",
    "You might be wondering why you can't get an accuracy any higher. First things first, 50% isn't bad for a simple CNN.  Pure guessing would get you 10% accuracy. That's because there are many more techniques that can be applied to your model and we recemmond that once you are done with this project, you explore!\n",
    "\n",
    "## Submitting This Project\n",
    "When submitting this project, make sure to run all the cells before saving the notebook.  Save the notebook file as \"image_classification.ipynb\" and save it as a HTML file under \"File\" -> \"Download as\".  Include the \"helper.py\" and \"problem_unittests.py\" files in your submission."
   ]
  }
 ],
 "metadata": {
  "kernelspec": {
   "display_name": "Python 3",
   "language": "python",
   "name": "python3"
  },
  "language_info": {
   "codemirror_mode": {
    "name": "ipython",
    "version": 3
   },
   "file_extension": ".py",
   "mimetype": "text/x-python",
   "name": "python",
   "nbconvert_exporter": "python",
   "pygments_lexer": "ipython3",
   "version": "3.5.2"
  },
  "widgets": {
   "state": {},
   "version": "1.1.2"
  }
 },
 "nbformat": 4,
 "nbformat_minor": 0
}
